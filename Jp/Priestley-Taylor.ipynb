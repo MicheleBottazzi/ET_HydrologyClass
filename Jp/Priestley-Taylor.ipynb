{
 "cells": [
  {
   "cell_type": "markdown",
   "metadata": {},
   "source": [
    "Complete documentation: https://osf.io/4rd8g/\n",
    "## **Priestley-Taylor**"
   ]
  },
  {
   "cell_type": "markdown",
   "metadata": {},
   "source": [
    "| Method's input | Temp | ShortWave | LongWave | Net Radiation | Wind speed | Humidity | Soil flux | Pressure | Leaf area index | Water content |\n",
    "| --- | --- | --- | --- | --- | --- | --- | --- | ---  | --- | --- |\n",
    "| Priestley-Taylor | $\\checkmark$ | $\\times$ | $\\times$ | $\\checkmark$ | $\\times$ | $\\times$ | $\\checkmark$ | $     \\checkmark$  | $\\times$ | $\\times$ |\n",
    "| Penman-Monteith FAO | $\\checkmark$ | $\\times$ | $\\times$ | $\\checkmark$ | $\\checkmark$ | $\\checkmark$ | $\\checkmark$ | $\\checkmark$  | $\\times$ | $\\checkmark$ |\n",
    "| GEOframe | $\\checkmark$ | $\\checkmark$ | $\\checkmark$ | $\\times$ | $\\checkmark$ | $\\checkmark$ | $\\checkmark$ | $\\checkmark$  | $\\checkmark$ | $\\checkmark$ |"
   ]
  },
  {
   "cell_type": "markdown",
   "metadata": {},
   "source": [
    "| Method's input | Temp | ShortWave | LongWave | Net Radiation | Wind speed | Humidity | Soil flux | Pressure | Leaf area index | Water content |\n",
    "| --- | --- | --- | --- | --- | --- | --- | --- | ---  | --- | --- |\n",
    "| Priestley-Taylor | $\\checkmark$ | $\\times$ | $\\times$ | $\\checkmark$ | $\\times$ | $\\times$ | $\\checkmark$ | $     \\checkmark$  | $\\times$ | $\\times$ |\n",
    "| Penman-Monteith FAO | $\\checkmark$ | $\\times$ | $\\times$ | $\\checkmark$ | $\\checkmark$ | $\\checkmark$ | $\\checkmark$ | $\\checkmark$  | $\\times$ | $\\checkmark$ |\n",
    "| GEOframe | $\\checkmark$ | $\\checkmark$ | $\\checkmark$ | $\\times$ | $\\checkmark$ | $\\checkmark$ | $\\checkmark$ | $\\checkmark$  | $\\checkmark$ | $\\checkmark$ |\n"
   ]
  },
  {
   "cell_type": "markdown",
   "metadata": {},
   "source": [
    "### **Component Description**\n",
    "The GEOframe-NewAge ET component offers two different formulations for the evapotraspiration modeling: the FAO Penman-Monteith model and the Priestley Taylor model\n",
    "\n",
    "\\begin{equation}\n",
    "ET_{0}^{PT} = \\alpha\\dfrac{\\Delta\\cdot (R_{n} - G)}{\\Delta+\\gamma}\n",
    "\\end{equation}\n",
    "With:\n",
    "\\begin{equation}\n",
    " G =  \\begin{cases}\n",
    "   G_{morn}\\cdot R_{n} \\quad daylight\\\\G_{night}\\cdot R_{n} \\quad nighttime\n",
    "   \\end{cases} \n",
    "\\end{equation}\n",
    "where:\n",
    "- $ET_{0}$ or $ET$ are expressed in [$mm \\cdot day^{−1}$] or [$mm\\cdot hour^{−1}$]; \n",
    "- $R_{n}$ is the net radiation expressed in [$MJ \\cdot m^{2} \\cdot day^{−1}$] or [$MJ \\cdot m^{2}\\cdot h^{−1}$]; \n",
    "- $G$ is the soil heat flux at the soil surface in [$MJ \\cdot m^{2} \\cdot day^{−1}$] or [$MJ \\cdot m^{2}\\cdot h^{−1}$]; \n",
    "- $\\Delta$ is the slope of the saturation vapor-pressure curve expressed in ($kP_{a}\\dot °C^{−1}$); \n",
    "- $\\gamma$ is the psychometric constant expressed in ($kP_{a} \\cdot$ °$C^{−1}$); "
   ]
  },
  {
   "cell_type": "markdown",
   "metadata": {},
   "source": [
    "### **Detailed Inputs description**\n",
    "General description\n",
    "The input file is a .csv file containing a header and one or more time series of input data,\n",
    "depending on the number of stations involved. Each column of the file is associated to a\n",
    "different station.\n",
    "The file must have the following header:\n",
    "- The first 3 rows with general information such as the date of the creation of the file and the author;\n",
    "- The fourth and fifth rows contain the IDs of the stations (e.g. station number 8:value 8, ID, ,8);\n",
    "- The sixth row contains the information about the type of the input data (in thiscase, one column with the date and one column with double values);\n",
    "- The seventh row specifies the date format (YYYY-MM-dd HH:mm).\n"
   ]
  },
  {
   "cell_type": "markdown",
   "metadata": {},
   "source": [
    "- #### **Net radiation**\n",
    "The net radiation is given in time series of ($W/m^{2}$) values. The conversion from ($W/m^{2}$) to ($MJ\\cdot m^{2}$) is automatically done by the component.\n",
    "- #### **$G_{morn}$**\n",
    "$G_{morn}$ is the coefficient for the soil heat flux during daylight\n",
    "- #### **$G_{night}$**\n",
    "$G_{night}$ is the coefficient for the soil heat flux during nighttime\n",
    "- #### **doHourly**\n",
    "doHourly is a boolean field to set the time step of the simulation (”true” is hourly time step, ”false” is daily).\n",
    "- #### **Start Date**\n",
    "Start Date is a string containing the first day of the simulation.\n",
    "- #### **$\\alpha$**\n",
    "Parameter of the Priestley-Taylor equation. The mean value is 1.26. Adimensional\n"
   ]
  },
  {
   "cell_type": "markdown",
   "metadata": {},
   "source": [
    "### **Detailed Outputs description**\n",
    "The output file will have exactly the same heading of the input file. \n",
    "- #### **Time series of the latent heat (W/m$^{2}$)**\n",
    "The simulated output evapotranspiration is given as a time series at a given point. Its units are ($mm \\cdot h^{−1}$) or ($mm \\cdot day^{−1}$) depending on the temporal resolution chosen by the end-user.\n",
    "- #### **Time series of the evapotranspiration (mm)**\n",
    "The simulated output evapotranspiration is given as a time series at a given point. Its units are ($mm \\cdot h^{−1}$) or ($mm \\cdot day^{−1}$) depending on the temporal resolution chosen by the end-user."
   ]
  },
  {
   "cell_type": "code",
   "execution_count": 8,
   "metadata": {},
   "outputs": [],
   "source": [
    "import pandas as pd\n",
    "import numpy as np\n",
    "import matplotlib.pyplot as plt\n",
    "from IPython.display import Image\n",
    "import os"
   ]
  },
  {
   "cell_type": "code",
   "execution_count": 9,
   "metadata": {},
   "outputs": [],
   "source": [
    "###########################\n",
    "### SET THE FOLDER PATH ###\n",
    "###########################\n",
    "projFolder = '/home/drugo/Sim/OMS_Project_ET/'"
   ]
  },
  {
   "cell_type": "code",
   "execution_count": 10,
   "metadata": {},
   "outputs": [],
   "source": [
    "os.chdir(projFolder)"
   ]
  },
  {
   "cell_type": "code",
   "execution_count": null,
   "metadata": {},
   "outputs": [],
   "source": [
    "# %load simulation/Evapotranspiration_PriestleyTaylor.sim\n",
    "import static oms3.SimBuilder.instance as OMS3\n",
    "def home = oms_prj\n",
    "\n",
    "def startDate = \"2006-07-01 00:00\"\n",
    "def endDate = \"2006-07-31 23:30\"\n",
    "def timestep = 30\n",
    "OMS3.sim {\n",
    "\tresource \"$oms_prj/lib\"    \n",
    "\tmodel(while:\"readerAirTemperature.doProcess\") {\n",
    "\t\tcomponents {\n",
    "\t\t\t\"readerAirTemperature\"\t\t\t\"org.jgrasstools.gears.io.timedependent.OmsTimeSeriesIteratorReader\"\n",
    "\t\t\t\"readerNetRadiation\"            \"org.jgrasstools.gears.io.timedependent.OmsTimeSeriesIteratorReader\"\n",
    "\t\t\t\"readerAtmosphericPressure\"     \"org.jgrasstools.gears.io.timedependent.OmsTimeSeriesIteratorReader\"\n",
    "\t\t\t\"readerSoilHeatFlux\"          \t\"org.jgrasstools.gears.io.timedependent.OmsTimeSeriesIteratorReader\"\t\n",
    "\t\t\t\"priestleyTaylor\"               \"etpPointCase.OmsPriestleyTaylor\"     \n",
    "\t\t\t\"writerLatentHeatPT\"\t\t\t\"org.jgrasstools.gears.io.timedependent.OmsTimeSeriesIteratorWriter\"      \n",
    "\t\t\t\"writerEvapotranspirationPT\"\t\"org.jgrasstools.gears.io.timedependent.OmsTimeSeriesIteratorWriter\"      \t\t\t         \n",
    "\t\t\t}  \n",
    "\t\t\tparameter{        \n",
    "\t\t\t\t\n",
    "\t\t\t\t// PARAMETERS\n",
    "\t\t\t\t\"priestleyTaylor.alpha\"\t\t\t\t\t\t1.26\n",
    "\t\t        \"priestleyTaylor.soilFluxParameterDay\"\t\t0.35\n",
    "\t\t        \"priestleyTaylor.soilFluxParameterNight\"\t0.75\n",
    "        \t\t\"priestleyTaylor.doHourly\"\t\t\t\t\ttrue\n",
    "        \t\t\"priestleyTaylor.defaultAtmosphericPressure\"101.3\n",
    "\t\t        \"priestleyTaylor.temporalStep\"\t\t\t\t\"${timestep}\"\n",
    "        \t\t\"priestleyTaylor.tStartDate\"\t\t\t\t\"${startDate}\"\n",
    "        \t\t\n",
    "        \t\t// READERS\n",
    "\t\t\t\t\"readerAirTemperature.file\"\t\t\t\t\t\"${home}/data/Temp.csv\"\n",
    "\t\t\t\t\"readerAirTemperature.idfield\"      \t\t\"val\"  \n",
    "\t\t\t\t\"readerAirTemperature.tStart\"\t\t\t\t\"${startDate}\"\n",
    "\t\t\t\t\"readerAirTemperature.tEnd\"\t\t\t\t\t\"${endDate}\"\n",
    "\t\t\t\t\"readerAirTemperature.tTimestep\"\t\t\t\"${timestep}\"\n",
    "\t\t\t\t\"readerAirTemperature.fileNovalue\"\t\t\t\"-9999\"        \n",
    "\t\t\t\t\n",
    "\t\t\t\t\"readerNetRadiation.file\"          \t\t\t\"${home}/data/Net.csv\"\n",
    "\t\t\t\t\"readerNetRadiation.idfield\"      \t\t\t\"val\"\n",
    "\t\t\t\t\"readerNetRadiation.tStart\"        \t\t\t\"${startDate}\"\n",
    "\t\t\t\t\"readerNetRadiation.tEnd\"\t\t\t\t\t\"${endDate}\"\n",
    "\t\t\t\t\"readerNetRadiation.tTimestep\"\t\t\t\t\"${timestep}\"\n",
    "\t\t\t\t\"readerNetRadiation.fileNovalue\"\t\t\t\"-9999\"\t\n",
    "\t\t\t\n",
    "\t\t\t\t\"readerAtmosphericPressure.file\"    \t\t\"${home}/data/Pres.csv\"\n",
    "\t\t\t\t\"readerAtmosphericPressure.idfield\"     \t\"val\"  \n",
    "\t\t\t\t\"readerAtmosphericPressure.tStart\"      \t\"${startDate}\"\n",
    "\t\t\t\t\"readerAtmosphericPressure.tEnd\"        \t\"${endDate}\"\n",
    "\t\t\t\t\"readerAtmosphericPressure.tTimestep\"   \t\"${timestep}\"\n",
    "\t\t\t\t\"readerAtmosphericPressure.fileNovalue\" \t\"-9999.0\"       \n",
    "\t\t\t\t\n",
    "\t\t\t\t\"readerSoilHeatFlux.file\"         \t\t\t\"${home}/data/GHF.csv\" \n",
    "\t\t\t\t\"readerSoilHeatFlux.idfield\"      \t\t\t\"val\"  \n",
    "\t\t\t\t\"readerSoilHeatFlux.tStart\"       \t\t\t\"${startDate}\"\n",
    "\t\t\t\t\"readerSoilHeatFlux.tEnd\"         \t\t\t\"${endDate}\"\n",
    "\t\t\t\t\"readerSoilHeatFlux.tTimestep\"    \t\t\t\"${timestep}\"\n",
    "\t\t\t\t\"readerSoilHeatFlux.fileNovalue\"  \t\t\t\"-9999.0\"                                                     \n",
    "\t\t\t\n",
    "\t\t\t\t// WRITERS\n",
    "\t\t\t\t\"writerLatentHeatPT.file\"\t\t\t\t\t\"${home}/output/Evapotranspiration_PriestleyTaylor/latentHeat_PT.csv\" \n",
    "\t\t\t\t\"writerLatentHeatPT.tStart\"\t\t\t\t\t\"${startDate}\"\n",
    "\t\t\t\t\"writerLatentHeatPT.tTimestep\"\t\t\t\t\"${timestep}\"\n",
    "\t\t\t\t\n",
    "\t\t\t\t\"writerEvapotranspirationPT.file\"\t\t\t\"${home}/output/Evapotranspiration_PriestleyTaylor/evapotranspiration_PT.csv\" \n",
    "\t\t\t\t\"writerEvapotranspirationPT.tStart\"\t\t\t\"${startDate}\"\n",
    "\t\t\t\t\"writerEvapotranspirationPT.tTimestep\"\t\t\"${timestep}\"\n",
    "\t\t\t\t}\n",
    "\t\t\t\tconnect {                \n",
    "\t\t\t\t\t\"readerAirTemperature.outData\"\t\t\t\"priestleyTaylor.inAirTemperature\"\n",
    "\t\t\t\t\t\"readerNetRadiation.outData\"\t\t\t\"priestleyTaylor.inNetRadiation\"\n",
    "\t\t\t\t\t\"readerAtmosphericPressure.outData\"\t\t\"priestleyTaylor.inAtmosphericPressure\"\t\n",
    "\t\t\t\t\t\"readerSoilHeatFlux.outData\"\t\t\t\"priestleyTaylor.inSoilFlux\"\t\n",
    "\t\t\t\t\t\"priestleyTaylor.outLatentHeatPt\"\t\t\"writerLatentHeatPT.inData\"\n",
    "\t\t\t\t\t\"priestleyTaylor.outEvapotranspirationPt\"\"writerEvapotranspirationPT.inData\"\n",
    "\t\t\t\t\t}\t\t\t\t\t\n",
    "\t\t\t}\n",
    "\t}\n",
    "\n",
    "\n"
   ]
  },
  {
   "cell_type": "code",
   "execution_count": 12,
   "metadata": {},
   "outputs": [],
   "source": [
    "# !docker run --rm -it -v $(pwd):/work omslab/oms simulation/Evapotranspiration_PriestleyTaylor.sim"
   ]
  },
  {
   "cell_type": "markdown",
   "metadata": {},
   "source": [
    "**Read the Priestley-Taylor output**"
   ]
  },
  {
   "cell_type": "code",
   "execution_count": 38,
   "metadata": {},
   "outputs": [],
   "source": [
    "nameETPTFile = 'output/Evapotranspiration_PriestleyTaylor/latentHeat_PT.csv'"
   ]
  },
  {
   "cell_type": "code",
   "execution_count": 39,
   "metadata": {},
   "outputs": [
    {
     "data": {
      "text/html": [
       "<div>\n",
       "<style scoped>\n",
       "    .dataframe tbody tr th:only-of-type {\n",
       "        vertical-align: middle;\n",
       "    }\n",
       "\n",
       "    .dataframe tbody tr th {\n",
       "        vertical-align: top;\n",
       "    }\n",
       "\n",
       "    .dataframe thead th {\n",
       "        text-align: right;\n",
       "    }\n",
       "</style>\n",
       "<table border=\"1\" class=\"dataframe\">\n",
       "  <thead>\n",
       "    <tr style=\"text-align: right;\">\n",
       "      <th></th>\n",
       "      <th>Et pt</th>\n",
       "    </tr>\n",
       "    <tr>\n",
       "      <th>Datetime</th>\n",
       "      <th></th>\n",
       "    </tr>\n",
       "  </thead>\n",
       "  <tbody>\n",
       "    <tr>\n",
       "      <th>2006-07-01 00:00:00</th>\n",
       "      <td>0.0</td>\n",
       "    </tr>\n",
       "    <tr>\n",
       "      <th>2006-07-01 00:30:00</th>\n",
       "      <td>0.0</td>\n",
       "    </tr>\n",
       "    <tr>\n",
       "      <th>2006-07-01 01:00:00</th>\n",
       "      <td>0.0</td>\n",
       "    </tr>\n",
       "  </tbody>\n",
       "</table>\n",
       "</div>"
      ],
      "text/plain": [
       "                     Et pt\n",
       "Datetime                  \n",
       "2006-07-01 00:00:00    0.0\n",
       "2006-07-01 00:30:00    0.0\n",
       "2006-07-01 01:00:00    0.0"
      ]
     },
     "execution_count": 39,
     "metadata": {},
     "output_type": "execute_result"
    }
   ],
   "source": [
    "df = pd.read_csv('output/Evapotranspiration_PriestleyTaylor/evapotranspiration_PT.csv',\n",
    "                 skiprows=6, sep=',', parse_dates=[0], \n",
    "                 na_values=-9999,usecols=[1,2])\n",
    "df.columns = ['Datetime','Et pt']\n",
    "df.index = df['Datetime']\n",
    "df = df.iloc[:,1:]\n",
    "df.head(3)"
   ]
  },
  {
   "cell_type": "code",
   "execution_count": 40,
   "metadata": {},
   "outputs": [
    {
     "data": {
      "text/html": [
       "<div>\n",
       "<style scoped>\n",
       "    .dataframe tbody tr th:only-of-type {\n",
       "        vertical-align: middle;\n",
       "    }\n",
       "\n",
       "    .dataframe tbody tr th {\n",
       "        vertical-align: top;\n",
       "    }\n",
       "\n",
       "    .dataframe thead th {\n",
       "        text-align: right;\n",
       "    }\n",
       "</style>\n",
       "<table border=\"1\" class=\"dataframe\">\n",
       "  <thead>\n",
       "    <tr style=\"text-align: right;\">\n",
       "      <th></th>\n",
       "      <th>Et pt</th>\n",
       "    </tr>\n",
       "  </thead>\n",
       "  <tbody>\n",
       "    <tr>\n",
       "      <th>count</th>\n",
       "      <td>1473.000000</td>\n",
       "    </tr>\n",
       "    <tr>\n",
       "      <th>mean</th>\n",
       "      <td>0.106799</td>\n",
       "    </tr>\n",
       "    <tr>\n",
       "      <th>std</th>\n",
       "      <td>0.140714</td>\n",
       "    </tr>\n",
       "    <tr>\n",
       "      <th>min</th>\n",
       "      <td>0.000000</td>\n",
       "    </tr>\n",
       "    <tr>\n",
       "      <th>25%</th>\n",
       "      <td>0.000000</td>\n",
       "    </tr>\n",
       "    <tr>\n",
       "      <th>50%</th>\n",
       "      <td>0.008187</td>\n",
       "    </tr>\n",
       "    <tr>\n",
       "      <th>75%</th>\n",
       "      <td>0.211855</td>\n",
       "    </tr>\n",
       "    <tr>\n",
       "      <th>max</th>\n",
       "      <td>0.524667</td>\n",
       "    </tr>\n",
       "  </tbody>\n",
       "</table>\n",
       "</div>"
      ],
      "text/plain": [
       "             Et pt\n",
       "count  1473.000000\n",
       "mean      0.106799\n",
       "std       0.140714\n",
       "min       0.000000\n",
       "25%       0.000000\n",
       "50%       0.008187\n",
       "75%       0.211855\n",
       "max       0.524667"
      ]
     },
     "execution_count": 40,
     "metadata": {},
     "output_type": "execute_result"
    }
   ],
   "source": [
    "df.describe()"
   ]
  },
  {
   "cell_type": "code",
   "execution_count": 41,
   "metadata": {},
   "outputs": [
    {
     "data": {
      "text/plain": [
       "<matplotlib.axes._subplots.AxesSubplot at 0x7f2f9d1df6a0>"
      ]
     },
     "execution_count": 41,
     "metadata": {},
     "output_type": "execute_result"
    },
    {
     "data": {
      "image/png": "[encoded data removed]",
      "text/plain": [
       "<Figure size 432x288 with 1 Axes>"
      ]
     },
     "metadata": {},
     "output_type": "display_data"
    }
   ],
   "source": [
    "df.plot()"
   ]
  },
  {
   "cell_type": "code",
   "execution_count": 42,
   "metadata": {},
   "outputs": [
    {
     "data": {
      "text/html": [
       "<div>\n",
       "<style scoped>\n",
       "    .dataframe tbody tr th:only-of-type {\n",
       "        vertical-align: middle;\n",
       "    }\n",
       "\n",
       "    .dataframe tbody tr th {\n",
       "        vertical-align: top;\n",
       "    }\n",
       "\n",
       "    .dataframe thead th {\n",
       "        text-align: right;\n",
       "    }\n",
       "</style>\n",
       "<table border=\"1\" class=\"dataframe\">\n",
       "  <thead>\n",
       "    <tr style=\"text-align: right;\">\n",
       "      <th></th>\n",
       "      <th>Et pt</th>\n",
       "    </tr>\n",
       "    <tr>\n",
       "      <th>Datetime</th>\n",
       "      <th></th>\n",
       "    </tr>\n",
       "  </thead>\n",
       "  <tbody>\n",
       "    <tr>\n",
       "      <th>2006-07-01 20:30:00</th>\n",
       "      <td>0.0</td>\n",
       "    </tr>\n",
       "    <tr>\n",
       "      <th>2006-07-01 21:00:00</th>\n",
       "      <td>0.0</td>\n",
       "    </tr>\n",
       "    <tr>\n",
       "      <th>2006-07-01 21:30:00</th>\n",
       "      <td>0.0</td>\n",
       "    </tr>\n",
       "    <tr>\n",
       "      <th>2006-07-01 22:00:00</th>\n",
       "      <td>0.0</td>\n",
       "    </tr>\n",
       "    <tr>\n",
       "      <th>2006-07-01 22:30:00</th>\n",
       "      <td>0.0</td>\n",
       "    </tr>\n",
       "  </tbody>\n",
       "</table>\n",
       "</div>"
      ],
      "text/plain": [
       "                     Et pt\n",
       "Datetime                  \n",
       "2006-07-01 20:30:00    0.0\n",
       "2006-07-01 21:00:00    0.0\n",
       "2006-07-01 21:30:00    0.0\n",
       "2006-07-01 22:00:00    0.0\n",
       "2006-07-01 22:30:00    0.0"
      ]
     },
     "execution_count": 42,
     "metadata": {},
     "output_type": "execute_result"
    }
   ],
   "source": [
    "mask = (df.index > '2006-07-01 00:00:00') & (df.index < '2006-07-01 23:00:00')\n",
    "dfDay = df.iloc[mask]\n",
    "dfDay.tail()"
   ]
  },
  {
   "cell_type": "code",
   "execution_count": 43,
   "metadata": {},
   "outputs": [
    {
     "data": {
      "text/plain": [
       "<matplotlib.axes._subplots.AxesSubplot at 0x7f2f9d1323c8>"
      ]
     },
     "execution_count": 43,
     "metadata": {},
     "output_type": "execute_result"
    },
    {
     "data": {
      "image/png": "[encoded data removed]",
      "text/plain": [
       "<Figure size 432x288 with 1 Axes>"
      ]
     },
     "metadata": {},
     "output_type": "display_data"
    }
   ],
   "source": [
    "dfDay.plot()"
   ]
  },
  {
   "cell_type": "code",
   "execution_count": null,
   "metadata": {},
   "outputs": [],
   "source": []
  }
 ],
 "metadata": {
  "kernelspec": {
   "display_name": "Python 3",
   "language": "python",
   "name": "python3"
  },
  "language_info": {
   "codemirror_mode": {
    "name": "ipython",
    "version": 3
   },
   "file_extension": ".py",
   "mimetype": "text/x-python",
   "name": "python",
   "nbconvert_exporter": "python",
   "pygments_lexer": "ipython3",
   "version": "3.6.8"
  }
 },
 "nbformat": 4,
 "nbformat_minor": 2
}
