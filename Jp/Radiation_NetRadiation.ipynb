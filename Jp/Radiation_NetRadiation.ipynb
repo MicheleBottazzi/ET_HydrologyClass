{
 "cells": [
  {
   "cell_type": "markdown",
   "metadata": {},
   "source": [
    "# **4 - Radiation lesson**"
   ]
  },
  {
   "cell_type": "markdown",
   "metadata": {},
   "source": [
    "In this lesson we will run the radiation simulations.\n",
    "- Skyview factor\n",
    "- Shortwave radiation\n",
    "- Clearness index\n",
    "- Longwave radiation\n",
    "- Net radiation\n",
    "- Raster radiation (longwave only)"
   ]
  },
  {
   "cell_type": "markdown",
   "metadata": {},
   "source": [
    "## **Net radiation**\n",
    "Complete documentation: https://osf.io/yzbhp/"
   ]
  },
  {
   "cell_type": "code",
   "execution_count": 3,
   "metadata": {},
   "outputs": [],
   "source": [
    "projFolder = '/home/drugo/Sim/OMS_Project_ET/'"
   ]
  },
  {
   "cell_type": "code",
   "execution_count": 5,
   "metadata": {},
   "outputs": [],
   "source": [
    "import pandas as pd\n",
    "import numpy as np\n",
    "import matplotlib.pyplot as plt\n",
    "import os\n",
    "\n",
    "os.chdir(projFolder)"
   ]
  },
  {
   "cell_type": "code",
   "execution_count": 7,
   "metadata": {},
   "outputs": [],
   "source": [
    "# %load simulation/Radiation/NetRadiation.sim\n",
    "import static oms3.SimBuilder.instance as OMS3\n",
    "def home = oms_prj\n",
    "\n",
    "// start and end date of the simulation\n",
    "def startDate\t=\t\"2006-07-01 00:00\"\n",
    "def endDate\t\t=\t\"2006-07-31 23:30\"\n",
    "OMS3.sim {\n",
    "\tresource \"$oms_prj/lib\"\t\t\n",
    "\tmodel(while: \"reader_data_DirectSWRB.doProcess\" ) {\n",
    "\t\tcomponents {    \n",
    "\t\t\t\"reader_data_DirectSWRB\"\t\t\t\t\t\"org.jgrasstools.gears.io.timedependent.OmsTimeSeriesIteratorReader\"\n",
    "\t\t\t\"reader_data_down\"\t\t\t\t\t\t\t\"org.jgrasstools.gears.io.timedependent.OmsTimeSeriesIteratorReader\"\n",
    "\t\t\t\"reader_data_up\"\t\t\t\t\t\t\t\"org.jgrasstools.gears.io.timedependent.OmsTimeSeriesIteratorReader\"\n",
    "\t\t\t\"net\"\t\t\t\t\t\t\t\t\t\t\"netRadiation.NetRadiation\"\n",
    "\t\t\t\"writer_net\"\t\t\t\t\t\t\t\t\"org.jgrasstools.gears.io.timedependent.OmsTimeSeriesIteratorWriter\"                      \n",
    "\t\t\t}  \n",
    "\t\t\tparameter{   \n",
    "\t\t\t\t\"reader_data_DirectSWRB.file\"\t\t\t\"${home}/output/Radiation/ShortwaveTotal.csv\" \n",
    "\t\t\t\t\"reader_data_DirectSWRB.idfield\"\t\t\"ID\"  \n",
    "\t\t\t\t\"reader_data_DirectSWRB.tStart\"\t\t\t\"${startDate}\"\n",
    "\t\t\t\t\"reader_data_DirectSWRB.tEnd\"\t\t\t\"${endDate}\"\n",
    "\t\t\t\t\"reader_data_DirectSWRB.tTimestep\"\t\t30\n",
    "\t\t\t\t\"reader_data_DirectSWRB.fileNovalue\"\t\"-9999\"        \n",
    "\t\t\t\t\n",
    "\t\t\t\t\"reader_data_down.file\"\t\t\t\t\t\"${home}/output/Radiation/LongwaveDownwelling_Model6.csv\" \n",
    "\t\t\t\t\"reader_data_down.idfield\"\t\t\t\t\"ID\"  \n",
    "\t\t\t\t\"reader_data_down.tStart\"\t\t\t\t\"${startDate}\"\n",
    "\t\t\t\t\"reader_data_down.tEnd\"\t\t\t\t\t\"${endDate}\"\n",
    "\t\t\t\t\"reader_data_down.tTimestep\"\t\t\t30\n",
    "\t\t\t\t\"reader_data_down.fileNovalue\"\t\t\t\"-9999\"\t\t\t\t        \n",
    "\t\t\t\t\n",
    "\t\t\t\t\"reader_data_up.file\"\t\t\t\t\t\"${home}/output/Radiation/LongwaveUpwelling_Model6.csv\" \n",
    "\t\t\t\t\"reader_data_up.idfield\"\t\t\t\t\"ID\"  \n",
    "\t\t\t\t\"reader_data_up.tStart\"\t\t\t\t\t\"${startDate}\"\n",
    "\t\t\t\t\"reader_data_up.tEnd\"\t\t\t\t\t\"${endDate}\"\n",
    "\t\t\t\t\"reader_data_up.tTimestep\"\t\t\t\t30\n",
    "\t\t\t\t\"reader_data_up.fileNovalue\"\t\t\t\"-9999\"\n",
    "\t\t\t\t\n",
    "\t\t\t\t// parameter of the net radiation component\n",
    "\t\t\t\t\"net.alfa\"\t\t\t\t\t\t\t\t0.6\t\t\t\t            \n",
    "\t\t\t\t// parameter of the writing component    \n",
    "\t\t\t\t\"writer_net.file\"\t\t\t\t\t\t\"${home}/output/Radiation/NetRadiation.csv\" \n",
    "\t\t\t\t\"writer_net.tStart\"\t\t\t\t\t\t\"${startDate}\"\n",
    "\t\t\t\t\"writer_net.fileNovalue\"\t\t\t\t\"-9999\"\n",
    "\t\t\t\t\"writer_net.tTimestep\"\t\t\t\t\t30        \n",
    "\t\t\t\t}\n",
    "\t\t\t\tconnect {        \n",
    "\t\t\t\t\t\"reader_data_DirectSWRB.outData\"\t\"net.inShortwaveValues\"\n",
    "\t\t\t\t\t\"reader_data_down.outData\"\t\t\t\"net.inDownwellingValues\"\n",
    "\t\t\t\t\t\"reader_data_up.outData\"\t\t\t\"net.inUpwellingValues\"\n",
    "\t\t\t\t\t\"net.outHMnetRad\"\t\t\t\t\t\"writer_net.inData\"\n",
    "\t\t\t\t\t}\n",
    "\t\t\t}\n",
    "\t}\n",
    "\n"
   ]
  },
  {
   "cell_type": "markdown",
   "metadata": {},
   "source": [
    "**Run net radiation simulation**"
   ]
  },
  {
   "cell_type": "code",
   "execution_count": 9,
   "metadata": {},
   "outputs": [
    {
     "name": "stdout",
     "output_type": "stream",
     "text": [
      "build/ folder exists: project already built.\n",
      "\n",
      "*********************************\n",
      "***     END OF SIMULATION     ***\n",
      "*********************************\n",
      "\n"
     ]
    }
   ],
   "source": [
    "!docker run --rm -it -v $(pwd):/work omslab/oms simulation/Radiation/NetRadiation.sim"
   ]
  },
  {
   "cell_type": "markdown",
   "metadata": {},
   "source": [
    "Read the net radiation results"
   ]
  },
  {
   "cell_type": "code",
   "execution_count": 8,
   "metadata": {},
   "outputs": [],
   "source": [
    "nameNetFile = 'output/Radiation/NetRadiation.csv'"
   ]
  },
  {
   "cell_type": "code",
   "execution_count": 11,
   "metadata": {},
   "outputs": [
    {
     "data": {
      "text/html": [
       "<div>\n",
       "<style scoped>\n",
       "    .dataframe tbody tr th:only-of-type {\n",
       "        vertical-align: middle;\n",
       "    }\n",
       "\n",
       "    .dataframe tbody tr th {\n",
       "        vertical-align: top;\n",
       "    }\n",
       "\n",
       "    .dataframe thead th {\n",
       "        text-align: right;\n",
       "    }\n",
       "</style>\n",
       "<table border=\"1\" class=\"dataframe\">\n",
       "  <thead>\n",
       "    <tr style=\"text-align: right;\">\n",
       "      <th></th>\n",
       "      <th>Net</th>\n",
       "    </tr>\n",
       "    <tr>\n",
       "      <th>Datetime</th>\n",
       "      <th></th>\n",
       "    </tr>\n",
       "  </thead>\n",
       "  <tbody>\n",
       "    <tr>\n",
       "      <th>2006-07-01 00:00:00</th>\n",
       "      <td>0.0</td>\n",
       "    </tr>\n",
       "    <tr>\n",
       "      <th>2006-07-01 00:30:00</th>\n",
       "      <td>0.0</td>\n",
       "    </tr>\n",
       "    <tr>\n",
       "      <th>2006-07-01 01:00:00</th>\n",
       "      <td>0.0</td>\n",
       "    </tr>\n",
       "  </tbody>\n",
       "</table>\n",
       "</div>"
      ],
      "text/plain": [
       "                     Net\n",
       "Datetime                \n",
       "2006-07-01 00:00:00  0.0\n",
       "2006-07-01 00:30:00  0.0\n",
       "2006-07-01 01:00:00  0.0"
      ]
     },
     "execution_count": 11,
     "metadata": {},
     "output_type": "execute_result"
    }
   ],
   "source": [
    "dfNet = pd.read_csv('output/Radiation/NetRadiation.csv',\n",
    "                 skiprows=6, sep=',', parse_dates=[0], \n",
    "                 na_values=-9999,usecols=[1,2])\n",
    "dfNet.columns = ['Datetime','Net']\n",
    "dfNet.index = dfNet['Datetime']\n",
    "dfNet = dfNet.iloc[:,1:]\n",
    "dfNet.head(3)"
   ]
  },
  {
   "cell_type": "code",
   "execution_count": 12,
   "metadata": {},
   "outputs": [
    {
     "data": {
      "text/plain": [
       "<matplotlib.axes._subplots.AxesSubplot at 0x7fa14e2502e8>"
      ]
     },
     "execution_count": 12,
     "metadata": {},
     "output_type": "execute_result"
    },
    {
     "data": {
      "image/png": "[encoded data removed]",
      "text/plain": [
       "<Figure size 432x288 with 1 Axes>"
      ]
     },
     "metadata": {},
     "output_type": "display_data"
    }
   ],
   "source": [
    "dfNet.plot()"
   ]
  },
  {
   "cell_type": "code",
   "execution_count": null,
   "metadata": {},
   "outputs": [],
   "source": []
  }
 ],
 "metadata": {
  "kernelspec": {
   "display_name": "Python 3",
   "language": "python",
   "name": "python3"
  },
  "language_info": {
   "codemirror_mode": {
    "name": "ipython",
    "version": 3
   },
   "file_extension": ".py",
   "mimetype": "text/x-python",
   "name": "python",
   "nbconvert_exporter": "python",
   "pygments_lexer": "ipython3",
   "version": "3.6.8"
  }
 },
 "nbformat": 4,
 "nbformat_minor": 2
}
