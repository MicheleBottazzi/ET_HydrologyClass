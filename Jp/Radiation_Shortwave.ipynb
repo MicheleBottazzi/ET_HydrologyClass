{
 "cells": [
  {
   "cell_type": "markdown",
   "metadata": {},
   "source": [
    "# **2 - Radiation lesson**"
   ]
  },
  {
   "cell_type": "markdown",
   "metadata": {},
   "source": [
    "In this lesson we will run the radiation simulations.\n",
    "- Skyview factor\n",
    "- Shortwave radiation\n",
    "- Clearness index\n",
    "- Longwave radiation\n",
    "- Net radiation\n",
    "- Raster radiation (longwave only)"
   ]
  },
  {
   "cell_type": "markdown",
   "metadata": {},
   "source": [
    "# **Shortwave radiation**\n",
    "Complete documentation: https://osf.io/wcjqz/\n",
    "\n",
    "<span style='color:red'>**WARNING: very time consuming simulation**</span>\n",
    "\n",
    "### **Component Description**\n",
    "The incident shortwave (S) on an arbitrary sloping surface in a point under cloudless sky conditions is given by:\n",
    "\\begin{equation}\n",
    "S_{\\downarrow} = C_{1}\\cdot I_{sc} \\cdot E_{0} \\cdot cos(\\theta_{s} ) \\cdot (T_{s} + \\beta_{s} ) \\cdot \\psi \n",
    "\\end{equation}\n",
    "in which:\n",
    "- $C_{1} = 0.9751$ is the fraction of solar radiation that is included between 0.3 and 3.0 μm wavelengths;\n",
    "- $E_{0}$ [–] is a correction factor related to Earth’s orbit eccentricity computed according to Spencer (1971);\n",
    "- $T_{s}$ [–] is the product of the atmospheric transmittance:\n",
    "\\begin{equation}\n",
    "T_{s} = \\tau_{r} \\cdot \\tau_{0} \\cdot \\tau_{g} \\cdot \\tau_{w} \\cdot \\tau_{a} \n",
    "\\end{equation}\n",
    "where the $\\tau$ functions are the transmittance functions for Rayleigh scattering, ozone, uniformly mixed gases, water vapor, and aerosols, respectively;\n",
    "- $\\beta_{s}$ [m] is a correction factor for increased transmittance with elevation z[m] defined according to Corripio (2002);\n",
    "- $\\theta_{s}$ [rad] is the angle between the Sun vector and the surface plane;\n",
    "- $\\psi$ is the shadows index that accounts for the sun or shadow of the point under analysis. \n",
    "\n",
    "The modeling of the diffuse component of solar radiation, $d_{\\downarrow}$ , follows:\n",
    "\\begin{equation}\n",
    "d_{\\downarrow} = (d_{\\downarrow r} + d_{\\downarrow a} + d_{\\downarrow m} ) · V_{s} ,\n",
    "\\end{equation}\n",
    "\n",
    "where $d_{\\downarrow r}, d_{\\downarrow a}$ and $d_{\\downarrow m}$ are the diffuse irradiance components after the first pass through the atmosphere due to the Rayleigh scattering, the aerosol scattering and multiple reflection,respectively.\n",
    "\n",
    "Finally $V_{s}$ is the sky view factor, i.e., the fraction of sky visible in a point, computed using the algorithm presented in Corripio (2002)."
   ]
  },
  {
   "cell_type": "markdown",
   "metadata": {},
   "source": [
    "### **Detailed Inputs description**\n",
    "General description\n",
    "\n",
    "The input file is a .csv file containing a header and one or more time series of input data, depending on the number of stations involved. Each column of the file is associated to a different station. \n",
    "The file must have the following header:\n",
    "- The first 3 rows with general information such as the date of the creation of the file and the author;\n",
    "- the fourth and fifth rows contain the IDs of the stations (e.g. station number 8: value 8, ID, ,8);\n",
    "- the sixth row contains the information about the type of the input data (in this case, one column with the date and one column with double values);\n",
    "- the seventh row specifies the date format (YYYY-MM-dd HH:mm).\n",
    "All the previous information shown in the following figure:"
   ]
  },
  {
   "cell_type": "code",
   "execution_count": 9,
   "metadata": {},
   "outputs": [],
   "source": [
    "from IPython.display import Image\n",
    "import os"
   ]
  },
  {
   "cell_type": "code",
   "execution_count": 10,
   "metadata": {},
   "outputs": [
    {
     "data": {
      "image/png": "[encoded data removed]",
      "text/plain": [
       "<IPython.core.display.Image object>"
      ]
     },
     "execution_count": 10,
     "metadata": {},
     "output_type": "execute_result"
    }
   ],
   "source": [
    "projFolder = '/home/drugo/Sim/OMS_Project_ET/'\n",
    "os.chdir(projFolder)\n",
    "Image('Images/header.png')"
   ]
  },
  {
   "cell_type": "markdown",
   "metadata": {},
   "source": [
    "#### **Air temperature**\n",
    "The air temperature is given in <span style='color:red'>**time series**</span> or <span style='color:red'>**raster maps**</span> of (°C) values. The conversion in (°K) is directly done by the component.\n",
    "#### **Relative humidity measures**\n",
    "The relative humidity is given in <span style='color:red'>**time series**</span> or <span style='color:red'>**raster maps**</span> of (%) values.\n",
    "#### **DEM**\n",
    "DEM is the <span style='color:red'>**digital elevation model**</span> of the HRU considered.\n",
    "#### **Sky view factor**\n",
    "The sky view factor is a <span style='color:red'>**raster map**</span> of adimensional values in the interval [0,1] at the given point. It is the fraction of visible sky in the upper hemisphere and it is obtained from the digital elevation model using the JGrasstools. \n",
    "#### **Current date**\n",
    "The current date is given as a string <span style='color:red'>**parameter**</span> and is required to compute the correction factor related to Earth’s orbit eccentricity ($E_{0}$)\n",
    "#### **Ozone layer thickness**\n",
    "Ozone layer thickness is a double value <span style='color:red'>**parameter**</span> in (cm) and usually varies in the interval [0.4,0.6].\n",
    "#### **Visibility**\n",
    "Visibility is a double value <span style='color:red'>**parameter**</span> in (km) and it depends on aerosol attenuation. It usually varies in the interval [5,180] km.\n",
    "#### **Albedo**\n",
    "Albedo is the double value <span style='color:red'>**parameter**</span> of the ground albedo.\n",
    "#### **Vector file containing the coordinates of the station**\n",
    "This <span style='color:red'>**shapefile**</span> should contain all the information about the stations involved in the simulation. It is required to obtain the station IDs and to determine their coordinates. The name of the field containing the IDs of the stations must be specified as a string in the sim file at the field ”fStationid”"
   ]
  },
  {
   "cell_type": "code",
   "execution_count": 11,
   "metadata": {},
   "outputs": [],
   "source": [
    "###########################\n",
    "### SET THE FOLDER PATH ###\n",
    "###########################\n",
    "projFolder = '/home/drugo/Sim/OMS_Project_ET/'"
   ]
  },
  {
   "cell_type": "code",
   "execution_count": 20,
   "metadata": {},
   "outputs": [
    {
     "ename": "SyntaxError",
     "evalue": "invalid syntax (<ipython-input-20-73fa6e6da11c>, line 2)",
     "output_type": "error",
     "traceback": [
      "\u001b[0;36m  File \u001b[0;32m\"<ipython-input-20-73fa6e6da11c>\"\u001b[0;36m, line \u001b[0;32m2\u001b[0m\n\u001b[0;31m    import static oms3.SimBuilder.instance as OMS3\u001b[0m\n\u001b[0m                     ^\u001b[0m\n\u001b[0;31mSyntaxError\u001b[0m\u001b[0;31m:\u001b[0m invalid syntax\n"
     ]
    }
   ],
   "source": [
    "# %load simulation/Radiation/ShortWave.sim\n",
    "import static oms3.SimBuilder.instance as OMS3\n",
    "def home = oms_prj\n",
    "// start and end date of the simulation\n",
    "def startDate\t=\t\"2006-07-01 00:00\"\n",
    "def endDate\t\t=\t\"2006-07-31 23:30\"\n",
    "OMS3.sim {\n",
    "\tresource \"$oms_prj/lib\"\n",
    "\tmodel(while : \"reader_data_airT.doProcess\"  ) {\n",
    "\t\tcomponents {    \n",
    "\t\t\t\"reader_data_airT\"            \t\t\"org.jgrasstools.gears.io.timedependent.OmsTimeSeriesIteratorReader\"        \n",
    "\t\t\t\"reader_data_RH\"            \t\t\"org.jgrasstools.gears.io.timedependent.OmsTimeSeriesIteratorReader\"        \n",
    "\t\t\t\"reader_dem\"                  \t\t\"org.jgrasstools.gears.io.rasterreader.OmsRasterReader\"     \n",
    "\t\t\t\"reader_sky\"                  \t\t\"org.jgrasstools.gears.io.rasterreader.OmsRasterReader\"\n",
    "\t\t\t\"vreader_station\"             \t\t\"org.jgrasstools.gears.io.shapefile.OmsShapefileFeatureReader\"\n",
    "\t\t\t\"swrb\"                        \t\t\"swrbPointCase.ShortwaveRadiationBalancePointCase\"\n",
    "\t\t\t\"writer_direct\"               \t\t\"org.jgrasstools.gears.io.timedependent.OmsTimeSeriesIteratorWriter\" \n",
    "\t\t\t\"writer_diffuse\"              \t\t\"org.jgrasstools.gears.io.timedependent.OmsTimeSeriesIteratorWriter\" \t\t\n",
    "\t\t\t\"writer_topATM\"\t\t\t\t\t\t\"org.jgrasstools.gears.io.timedependent.OmsTimeSeriesIteratorWriter\"         \n",
    "\t\t\t\"writer_total\"\t\t\t\t\t\t\"org.jgrasstools.gears.io.timedependent.OmsTimeSeriesIteratorWriter\"   \n",
    "\t\t\t}  \n",
    "\t\t\tparameter{   \n",
    "\t\t\t\t// parameters reader data input air temperature\n",
    "\t\t\t\t\"reader_data_airT.idfield\"\t\t\"ID\"  \n",
    "\t\t\t\t\"reader_data_airT.file\"\t\t\t\"${home}/data/Temp.csv\"\n",
    "\t\t\t\t\"reader_data_airT.tStart\"\t\t\"${startDate}\"\n",
    "\t\t\t\t\"reader_data_airT.tEnd\"\t\t\t\"${endDate}\"\n",
    "\t\t\t\t\"reader_data_airT.tTimestep\"\t30\n",
    "\t\t\t\t\"reader_data_airT.fileNovalue\"\t\"-9999\"                        \n",
    "\t\t\t\t\n",
    "\t\t\t\t// parameters reader data input relative humidity\n",
    "\t\t\t\t//\"reader_data_RH.file\"\t\t\t\"${home}/data/RH.csv\"\n",
    "\t\t\t\t//\"reader_data_RH.idfield\"\t\t\"ID\"  \n",
    "\t\t\t\t//\"reader_data_RH.tStart\"\t\t\"${startDate}\"\n",
    "\t\t\t\t//\"reader_data_RH.tEnd\"\t\t\t\"${endDate}\"\n",
    "\t\t\t\t//\"reader_data_RH.tTimestep\"\t30\n",
    "\t\t\t\t//\"reader_data_RH.fileNovalue\"\t\"-9999\"                        \n",
    "\t\t\t\t\n",
    "\t\t\t\t\"reader_dem.file\"\t\t\t\t\"${home}/data/dem.asc\"\t\t\n",
    "\t\t\t\t\"reader_sky.file\"\t\t\t\t\"${home}/output/Radiation/skyviewRaster.asc\"\n",
    "\t\t\t\t\"vreader_station.file\"\t\t\t\"${home}/data/Stations.shp\"               \n",
    "\t\t\t\t\n",
    "\t\t\t\t// name of the column in the shape file containing the ID of the station\n",
    "\t\t\t\t\"swrb.fStationsid\"\t\t\t\t\"ID\" //<---- è giusto l'id? CONTROLLATE\n",
    "\t\t\t\t\"swrb.tStartDate\"\t\t\t\t\"${startDate}\"   \n",
    "\t\t\t\t\"swrb.doHourly\"\t\t\t\t\ttrue   //or false if daily        \n",
    "\t\t\t\t\"swrb.pCmO3\"\t\t\t\t\t0.6\t\t// parametri da letteratura\n",
    "\t\t\t\t\"swrb.pAlphag\"\t\t\t\t\t0.9\t\t// parametri da letteratura\n",
    "\t\t\t\t\"swrb.pVisibility\"\t\t\t\t80\t\t// parametri da letteratura\t\t\t\t            \n",
    "\t\t\t\t// writer output paramters  \n",
    "\t\t\t\t\"writer_direct.file\"\t\t\t\"${home}/output/Radiation/ShortwaveDirect.csv\" \n",
    "\t\t\t\t\"writer_direct.tStart\"\t\t\t\"${startDate}\"\n",
    "\t\t\t\t\"writer_direct.fileNovalue\"\t\t\"-9999\"\n",
    "\t\t\t\t\"writer_direct.tTimestep\"\t\t30\t\t\t\t        \t\t\t\t        \n",
    "\t\t\t\t// writer output paramters   \n",
    "\t\t\t\t\"writer_diffuse.file\"\t\t\t\"${home}/output/Radiation/ShortwaveDiffuse.csv\" \n",
    "\t\t\t\t\"writer_diffuse.tStart\"\t\t\t\"${startDate}\"\n",
    "\t\t\t\t\"writer_diffuse.fileNovalue\"\t\"-9999\"\n",
    "\t\t\t\t\"writer_diffuse.tTimestep\"\t\t30                \n",
    "\t\t\t\t// writer output paramters    \n",
    "\t\t\t\t\"writer_topATM.file\"\t\t\t\"${home}/output/Radiation/ShortwaveTOA.csv\" \n",
    "\t\t\t\t\"writer_topATM.tStart\"\t\t\t\"${startDate}\"\n",
    "\t\t\t\t\"writer_topATM.fileNovalue\"\t\t\"-9999\"\n",
    "\t\t\t\t\"writer_topATM.tTimestep\"\t\t30        \n",
    "\t\t\t\t// writer output paramters    \n",
    "\t\t\t\t\"writer_total.file\"\t\t\t\"${home}/output/Radiation/ShortwaveTotal.csv\" \n",
    "\t\t\t\t\"writer_total.tStart\"\t\t\t\"${startDate}\"\n",
    "\t\t\t\t\"writer_total.fileNovalue\"\t\t\"-9999\"\n",
    "\t\t\t\t\"writer_total.tTimestep\"\t\t30        \n",
    "\t\t\t\t}\n",
    "\t\t\t\tconnect {                 \n",
    "\t\t\t\t\t\"reader_data_airT.outData\"\t\"swrb.inTemperatureValues\"\n",
    "\t\t\t\t\t//\"reader_data_RH.outData\"\t\"swrb.inHumidityValues\"       \n",
    "\t\t\t\t\t\"reader_dem.outRaster\"\t\t\"swrb.inDem\"    \n",
    "\t\t\t\t\t\"reader_sky.outRaster\"\t\t\"swrb.inSkyview\"          \n",
    "\t\t\t\t\t\"vreader_station.geodata\"\t\"swrb.inStations\"\n",
    "\t\t\t\t\t\"swrb.outHMdirect\"\t\t\t\"writer_direct.inData\"\n",
    "\t\t\t\t\t\"swrb.outHMdiffuse\"\t\t\t\"writer_diffuse.inData\"\n",
    "\t\t\t\t\t\"swrb.outHMtopatm\"\t\t\t\"writer_topATM.inData\"\n",
    "\t\t\t\t\t\"swrb.outHMtotal\"\t\t\t\"writer_total.inData\"\n",
    "\t\t\t\t\t}\n",
    "\t\t\t}\n",
    "\t}\n"
   ]
  },
  {
   "cell_type": "code",
   "execution_count": 22,
   "metadata": {},
   "outputs": [
    {
     "name": "stdout",
     "output_type": "stream",
     "text": [
      "build/ folder exists: project already built.\n",
      "Reading coverage: dem.asc\n",
      "Reading coverage: skyviewRaster.asc\n",
      "Reading features from shapefile: Stations.shp\n",
      "Finished.\n",
      "Finished.\n",
      "Finished.\n",
      "\n",
      "*********************************\n",
      "***     END OF SIMULATION     ***\n",
      "*********************************\n",
      "\n"
     ]
    }
   ],
   "source": [
    "!docker run --rm -it -v $(pwd):/work omslab/oms simulation/Radiation/ShortWave.sim"
   ]
  },
  {
   "cell_type": "code",
   "execution_count": 23,
   "metadata": {},
   "outputs": [],
   "source": [
    "import pandas as pd\n",
    "import numpy as np\n",
    "import matplotlib.pyplot as plt"
   ]
  },
  {
   "cell_type": "code",
   "execution_count": 24,
   "metadata": {},
   "outputs": [],
   "source": [
    "os.chdir(projFolder)"
   ]
  },
  {
   "cell_type": "markdown",
   "metadata": {},
   "source": [
    "**Read the shortwave radiation results**"
   ]
  },
  {
   "cell_type": "code",
   "execution_count": 25,
   "metadata": {},
   "outputs": [],
   "source": [
    "nameSWFile = 'output/Radiation/ShortwaveTotal.csv'"
   ]
  },
  {
   "cell_type": "code",
   "execution_count": 27,
   "metadata": {},
   "outputs": [
    {
     "data": {
      "text/html": [
       "<div>\n",
       "<style scoped>\n",
       "    .dataframe tbody tr th:only-of-type {\n",
       "        vertical-align: middle;\n",
       "    }\n",
       "\n",
       "    .dataframe tbody tr th {\n",
       "        vertical-align: top;\n",
       "    }\n",
       "\n",
       "    .dataframe thead th {\n",
       "        text-align: right;\n",
       "    }\n",
       "</style>\n",
       "<table border=\"1\" class=\"dataframe\">\n",
       "  <thead>\n",
       "    <tr style=\"text-align: right;\">\n",
       "      <th></th>\n",
       "      <th>SW</th>\n",
       "    </tr>\n",
       "    <tr>\n",
       "      <th>Datetime</th>\n",
       "      <th></th>\n",
       "    </tr>\n",
       "  </thead>\n",
       "  <tbody>\n",
       "    <tr>\n",
       "      <th>2006-07-01 00:00:00</th>\n",
       "      <td>0.0</td>\n",
       "    </tr>\n",
       "    <tr>\n",
       "      <th>2006-07-01 00:30:00</th>\n",
       "      <td>0.0</td>\n",
       "    </tr>\n",
       "    <tr>\n",
       "      <th>2006-07-01 01:00:00</th>\n",
       "      <td>0.0</td>\n",
       "    </tr>\n",
       "  </tbody>\n",
       "</table>\n",
       "</div>"
      ],
      "text/plain": [
       "                      SW\n",
       "Datetime                \n",
       "2006-07-01 00:00:00  0.0\n",
       "2006-07-01 00:30:00  0.0\n",
       "2006-07-01 01:00:00  0.0"
      ]
     },
     "execution_count": 27,
     "metadata": {},
     "output_type": "execute_result"
    }
   ],
   "source": [
    "dfSw = pd.read_csv('output/Radiation/ShortwaveTotal.csv',\n",
    "                 skiprows=6, sep=',', parse_dates=[0], \n",
    "                 na_values=-9999,usecols=[1,2])\n",
    "dfSw.columns = ['Datetime','SW']\n",
    "dfSw.index = dfSw['Datetime']\n",
    "dfSw = dfSw.iloc[:,1:]\n",
    "dfSw.head(3)"
   ]
  },
  {
   "cell_type": "code",
   "execution_count": 28,
   "metadata": {},
   "outputs": [
    {
     "data": {
      "text/plain": [
       "<matplotlib.axes._subplots.AxesSubplot at 0x7f0da513d240>"
      ]
     },
     "execution_count": 28,
     "metadata": {},
     "output_type": "execute_result"
    },
    {
     "data": {
      "image/png": "[encoded data removed]",
      "text/plain": [
       "<Figure size 432x288 with 1 Axes>"
      ]
     },
     "metadata": {},
     "output_type": "display_data"
    }
   ],
   "source": [
    "dfSw.plot()"
   ]
  },
  {
   "cell_type": "markdown",
   "metadata": {},
   "source": [
    "This result does not consider the feedback/impact of clouds. To assess the effect of clouds we need to compare the theoretical shortwave radiation obtained with the shortwave.sim with the one measured in the station.\n",
    "To do that we need the clearnessIndex.sim"
   ]
  },
  {
   "cell_type": "markdown",
   "metadata": {},
   "source": [
    "## **Clearness Index**\n",
    "Complete documentation: https://osf.io/vd7qh/"
   ]
  },
  {
   "cell_type": "markdown",
   "metadata": {},
   "source": [
    "### **Component Description**\n",
    "The clearness index is the ratio between the measured incoming solar radiation and the theoretical solar radiation computed at the top atmosphere. The index is needed to account for the cloudness for the simulation of the longwave radiation in all-sky conditions. Its dimensionless values varies between [0,1].\n",
    "### **Detailed Inputs description**\n",
    "#### **General description**\n",
    "The input file is a .csv file containing a header and one or more time series of input data, depending on the number of stations involved. Each column of the file is associated to a different station. \n",
    "The file must have the following header:\n",
    "- The first 3 rows with general information such as the date of the creation of the file and the author;\n",
    "- The fourth and fifth rows contain the IDs of the stations (e.g. station number 8: value 8, ID, ,8);\n",
    "- The sixth row contains the information about the type of the input data (in this case, one column with the date and one column with double values);\n",
    "- The seventh row specifies the date format (YYYY-MM-dd HH:mm).\n",
    "#### **Measured incoming solar radiation**\n",
    "The measured incoming solar radiation should be given in <span style='color:red'>**time series**</span> or <span style='color:red'>**raster maps**</span> of ($W \\cdot m^{−2}$) values for the investigated station.\n",
    "#### **Top atmosphere solar radiation**\n",
    "The theoretical solar radiation is computed at the top atmosphere and should be given in <span style='color:red'>**time series**</span> or <span style='color:red'>**raster maps**</span> of ($W \\cdot m^{−2}$) values."
   ]
  },
  {
   "cell_type": "markdown",
   "metadata": {},
   "source": [
    "### **Detailed Outputs description**\n",
    "Them output file will have exactly the same heading of the input file. \n",
    "#### **Time series of the Clearness index**\n",
    "The Clearness index output is given as a <span style='color:red'>**time series**</span> at a given point or as <span style='color:red'>**raster maps**</span>. Its units are ($W \\cdot m^{−2} / W \\cdot m^{−2}$) and the values vary between 0 and 1. During night time the values are set equal to NA."
   ]
  },
  {
   "cell_type": "code",
   "execution_count": 29,
   "metadata": {},
   "outputs": [],
   "source": [
    "os.chdir(projFolder)"
   ]
  },
  {
   "cell_type": "code",
   "execution_count": 32,
   "metadata": {},
   "outputs": [],
   "source": [
    "# %load simulation/Radiation/ClearnessIndex.sim\n",
    "import static oms3.SimBuilder.instance as OMS3\n",
    "def home = oms_prj\n",
    "\n",
    "// start and end date of the simulation\n",
    "def startDate\t=\t\"2006-07-01 00:00\"\n",
    "def endDate\t\t=\t\"2006-07-31 23:30\"\n",
    "\n",
    "OMS3.sim {\n",
    "\n",
    "resource \"$oms_prj/lib\"\n",
    "\n",
    " model(while: \"reader_data_SWRB_measured.doProcess\" ) {\n",
    "   components {\n",
    "    \n",
    "        // components: reader data input, clearness index and writer data output \n",
    "        \"reader_data_SWRB_measured\"            \"org.jgrasstools.gears.io.timedependent.OmsTimeSeriesIteratorReader\"\n",
    "        \"reader_data_SWRB_top\"                 \"org.jgrasstools.gears.io.timedependent.OmsTimeSeriesIteratorReader\"\n",
    "        \"CI\"                                   \"clearnessIndex.ClearnessIndexPointCase\"\n",
    "        \"writer_CI\"                            \"org.jgrasstools.gears.io.timedependent.OmsTimeSeriesIteratorWriter\" \n",
    "            \n",
    "         \n",
    "   }\n",
    "\n",
    "  \n",
    "   parameter{\n",
    "   \n",
    "        // parameters reader data input SW measured \n",
    "        \"reader_data_SWRB_measured.file\"             \"${home}/data/Temp.csv\" \n",
    "        \"reader_data_SWRB_measured.idfield\"          \"ID\"  \n",
    "        \"reader_data_SWRB_measured.tStart\"           \"${startDate}\"\n",
    "        \"reader_data_SWRB_measured.tEnd\"             \"${endDate}\"\n",
    "        \"reader_data_SWRB_measured.tTimestep\"          30\n",
    "        \"reader_data_SWRB_measured.fileNovalue\"      \"-9999\"\n",
    "        \n",
    "        \n",
    "        // parameters reader data input SW top  atmosphere\n",
    "        \"reader_data_SWRB_top.file\"             \"${home}/output/Radiation/ShortwaveTOA.csv\" \n",
    "        \"reader_data_SWRB_top.idfield\"          \"ID\"  \n",
    "        \"reader_data_SWRB_top.tStart\"           \"${startDate}\"\n",
    "        \"reader_data_SWRB_top.tEnd\"             \"${endDate}\"\n",
    "        \"reader_data_SWRB_top.tTimestep\"         30\n",
    "        \"reader_data_SWRB_top.fileNovalue\"      \"-9999\"\n",
    "   \n",
    "\n",
    "            \n",
    "        // parameters reader data input clearness index  \n",
    "        \"writer_CI.file\"                   \"${home}/output/Radiation/CI.csv\" \n",
    "        \"writer_CI.tStart\"                 \"${startDate}\"\n",
    "        \"writer_CI.fileNovalue\"\t\t\t   \"-9999\"\n",
    "        \"writer_CI.tTimestep\"              30\n",
    "        \n",
    "\n",
    "   }\n",
    "    connect {\n",
    "        \n",
    "        \"reader_data_SWRB_measured.outData\"             \"CI.inSWRBMeasuredValues\"\n",
    "        \"reader_data_SWRB_top.outData\"                  \"CI.inSWRBTopATMValues\"\n",
    "        \"CI.outCIHM\"                                    \"writer_CI.inData\"\n",
    "\n",
    "   }\n",
    "\n",
    " }\n",
    "}\n",
    "\n",
    "\n"
   ]
  },
  {
   "cell_type": "code",
   "execution_count": 33,
   "metadata": {},
   "outputs": [
    {
     "data": {
      "text/plain": [
       "'/home/drugo/Sim/OMS_Project_ET'"
      ]
     },
     "execution_count": 33,
     "metadata": {},
     "output_type": "execute_result"
    }
   ],
   "source": [
    "###########################\n",
    "## Only for docker users ##\n",
    "###########################\n",
    "os.chdir(projFolder)\n",
    "os.getcwd()"
   ]
  },
  {
   "cell_type": "code",
   "execution_count": 35,
   "metadata": {},
   "outputs": [
    {
     "name": "stdout",
     "output_type": "stream",
     "text": [
      "build/ folder exists: project already built.\n",
      "\n",
      "*********************************\n",
      "***     END OF SIMULATION     ***\n",
      "*********************************\n",
      "\n"
     ]
    }
   ],
   "source": [
    "###########################\n",
    "## Only for docker users ##\n",
    "###########################\n",
    "!docker run --rm -it -v $(pwd):/work omslab/oms simulation/Radiation/ClearnessIndex.sim"
   ]
  },
  {
   "cell_type": "markdown",
   "metadata": {},
   "source": [
    "**Display clearness index results**"
   ]
  },
  {
   "cell_type": "code",
   "execution_count": 36,
   "metadata": {},
   "outputs": [],
   "source": [
    "nameCiFile = 'output/Radiation/CI.csv'"
   ]
  },
  {
   "cell_type": "code",
   "execution_count": 38,
   "metadata": {},
   "outputs": [
    {
     "data": {
      "text/html": [
       "<div>\n",
       "<style scoped>\n",
       "    .dataframe tbody tr th:only-of-type {\n",
       "        vertical-align: middle;\n",
       "    }\n",
       "\n",
       "    .dataframe tbody tr th {\n",
       "        vertical-align: top;\n",
       "    }\n",
       "\n",
       "    .dataframe thead th {\n",
       "        text-align: right;\n",
       "    }\n",
       "</style>\n",
       "<table border=\"1\" class=\"dataframe\">\n",
       "  <thead>\n",
       "    <tr style=\"text-align: right;\">\n",
       "      <th></th>\n",
       "      <th>CI</th>\n",
       "    </tr>\n",
       "    <tr>\n",
       "      <th>Datetime</th>\n",
       "      <th></th>\n",
       "    </tr>\n",
       "  </thead>\n",
       "  <tbody>\n",
       "    <tr>\n",
       "      <th>2006-07-01 00:00:00</th>\n",
       "      <td>NaN</td>\n",
       "    </tr>\n",
       "    <tr>\n",
       "      <th>2006-07-01 00:30:00</th>\n",
       "      <td>NaN</td>\n",
       "    </tr>\n",
       "    <tr>\n",
       "      <th>2006-07-01 01:00:00</th>\n",
       "      <td>NaN</td>\n",
       "    </tr>\n",
       "  </tbody>\n",
       "</table>\n",
       "</div>"
      ],
      "text/plain": [
       "                     CI\n",
       "Datetime               \n",
       "2006-07-01 00:00:00 NaN\n",
       "2006-07-01 00:30:00 NaN\n",
       "2006-07-01 01:00:00 NaN"
      ]
     },
     "execution_count": 38,
     "metadata": {},
     "output_type": "execute_result"
    }
   ],
   "source": [
    "dfCi = pd.read_csv('output/Radiation/CI.csv',\n",
    "                 skiprows=6, sep=',', parse_dates=[0], \n",
    "                 na_values=-9999,usecols=[1,2])\n",
    "dfCi.columns = ['Datetime','CI']\n",
    "dfCi.index = dfCi['Datetime']\n",
    "dfCi = dfCi.iloc[:,1:]\n",
    "dfCi.head(3)"
   ]
  },
  {
   "cell_type": "code",
   "execution_count": 39,
   "metadata": {},
   "outputs": [
    {
     "data": {
      "text/plain": [
       "<matplotlib.axes._subplots.AxesSubplot at 0x7f0da1131588>"
      ]
     },
     "execution_count": 39,
     "metadata": {},
     "output_type": "execute_result"
    },
    {
     "data": {
      "image/png": "[encoded data removed]",
      "text/plain": [
       "<Figure size 432x288 with 1 Axes>"
      ]
     },
     "metadata": {},
     "output_type": "display_data"
    }
   ],
   "source": [
    "dfCi.plot()"
   ]
  }
 ],
 "metadata": {
  "kernelspec": {
   "display_name": "Python 3",
   "language": "python",
   "name": "python3"
  },
  "language_info": {
   "codemirror_mode": {
    "name": "ipython",
    "version": 3
   },
   "file_extension": ".py",
   "mimetype": "text/x-python",
   "name": "python",
   "nbconvert_exporter": "python",
   "pygments_lexer": "ipython3",
   "version": "3.6.8"
  }
 },
 "nbformat": 4,
 "nbformat_minor": 2
}
