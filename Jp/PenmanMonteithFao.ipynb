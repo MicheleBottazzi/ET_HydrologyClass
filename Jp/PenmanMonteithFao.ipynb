{
 "cells": [
  {
   "cell_type": "markdown",
   "metadata": {},
   "source": [
    "Complete documentation: https://osf.io/4rd8g/\n",
    "## **Penman-Monteith FAO**"
   ]
  },
  {
   "cell_type": "markdown",
   "metadata": {},
   "source": [
    "| Method's input | Temp | ShortWave | LongWave | Net Radiation | Wind speed | Humidity | Soil flux | Pressure | Leaf area index | Water content |\n",
    "| --- | --- | --- | --- | --- | --- | --- | --- | ---  | --- | --- |\n",
    "| Priestley-Taylor | $\\checkmark$ | $\\times$ | $\\times$ | $\\checkmark$ | $\\times$ | $\\times$ | $\\checkmark$ | $     \\checkmark$  | $\\times$ | $\\times$ |\n",
    "| Penman-Monteith FAO | $\\checkmark$ | $\\times$ | $\\times$ | $\\checkmark$ | $\\checkmark$ | $\\checkmark$ | $\\checkmark$ | $\\checkmark$  | $\\times$ | $\\checkmark$ |\n",
    "| GEOframe | $\\checkmark$ | $\\checkmark$ | $\\checkmark$ | $\\times$ | $\\checkmark$ | $\\checkmark$ | $\\checkmark$ | $\\checkmark$  | $\\checkmark$ | $\\checkmark$ |"
   ]
  },
  {
   "cell_type": "markdown",
   "metadata": {},
   "source": [
    "| Method's input | Temp | ShortWave | LongWave | Net Radiation | Wind speed | Humidity | Soil flux | Pressure | Leaf area index | Water content |\n",
    "| --- | --- | --- | --- | --- | --- | --- | --- | ---  | --- | --- |\n",
    "| Priestley-Taylor | $\\checkmark$ | $\\times$ | $\\times$ | $\\checkmark$ | $\\times$ | $\\times$ | $\\checkmark$ | $     \\checkmark$  | $\\times$ | $\\times$ |\n",
    "| Penman-Monteith FAO | $\\checkmark$ | $\\times$ | $\\times$ | $\\checkmark$ | $\\checkmark$ | $\\checkmark$ | $\\checkmark$ | $\\checkmark$  | $\\times$ | $\\checkmark$ |\n",
    "| GEOframe | $\\checkmark$ | $\\checkmark$ | $\\checkmark$ | $\\times$ | $\\checkmark$ | $\\checkmark$ | $\\checkmark$ | $\\checkmark$  | $\\checkmark$ | $\\checkmark$ |\n"
   ]
  },
  {
   "cell_type": "markdown",
   "metadata": {},
   "source": [
    "\n",
    "\n",
    "### **Component Description**\n",
    "The GEOframe-NewAge ET component offers two different formulations for the evapotraspiration modeling: the FAO Penman-Monteith model and the PriestleyTaylor model\n",
    "\\begin{equation}\n",
    "ET_{0}^{FAO} =  K_{s} \\cdot K_{c} \\cdot \\dfrac{0.408\\cdot \\Delta\\cdot (R_{n} - G)+\\gamma\\cdot u_{2}\\cdot(e_{s}-e)\\cdot\\frac{C_{p}}{T+273}}{\\Delta+\\gamma\\cdot(1+C_{d}\\cdot u_{2})}\n",
    "\\end{equation}\n",
    "\n",
    "\\begin{equation}\n",
    "ET_{0}^{PT} = \\alpha\\dfrac{\\Delta\\cdot (R_{n} - G)}{\\Delta+\\gamma}\n",
    "\\end{equation}\n",
    "With:\n",
    "\\begin{equation}\n",
    " G =  \\begin{cases}\n",
    "   G_{morn}\\cdot R_{n} \\quad daylight\\\\G_{night}\\cdot R_{n} \\quad nighttime\n",
    "   \\end{cases} \n",
    "\\end{equation}\n",
    "where:\n",
    "- $ET_{0}$ or $ET$ are expressed in [$mm \\cdot day^{−1}$] or [$mm\\cdot hour^{−1}$]; \n",
    "- $K_{s}$ is the water stress coefficient [-];\n",
    "- $K_{c}$ is the crop coefficient [-];\n",
    "- $R_{n}$ is the net radiation expressed in [$MJ \\cdot m^{2} \\cdot day^{−1}$] or [$MJ \\cdot m^{2}\\cdot h^{−1}$]; \n",
    "- $G$ is the soil heat flux at the soil surface in [$MJ \\cdot m^{2} \\cdot day^{−1}$] or [$MJ \\cdot m^{2}\\cdot h^{−1}$]; \n",
    "- $T$ is the mean daily or hourly air temperature expressed in (°C) ; \n",
    "- $u_{2}$ is the wind speed in ($m\\cdot s^{−1}$); \n",
    "- $e_{s}$ is the mean saturation vapor-pressure expressed in ($kP_{a}$); \n",
    "- $e$ is the mean actual vapor-pressure; \n",
    "- $\\Delta$ is the slope of the saturation vapor-pressure curve expressed in ($kP_{a}\\dot °C^{−1}$); \n",
    "- $\\gamma$ is the psychometric constant expressed in ($kP_{a} \\cdot$ °$C^{−1}$); \n",
    "- $C_{d}$ is a coefficient equal to 0.34 and $C_{p}$ is a coefficient equal to 900 in the case of a daily time step and equal to 37 in the case of a hourly time step.\n"
   ]
  },
  {
   "cell_type": "markdown",
   "metadata": {},
   "source": [
    "### **Detailed Inputs description**\n",
    "General description\n",
    "The input file is a .csv file containing a header and one or more time series of input data,\n",
    "depending on the number of stations involved. Each column of the file is associated to a\n",
    "different station.\n",
    "The file must have the following header:\n",
    "- The first 3 rows with general information such as the date of the creation of the file and the author;\n",
    "- The fourth and fifth rows contain the IDs of the stations (e.g. station number 8:value 8, ID, ,8);\n",
    "- The sixth row contains the information about the type of the input data (in thiscase, one column with the date and one column with double values);\n",
    "- The seventh row specifies the date format (YYYY-MM-dd HH:mm).\n"
   ]
  },
  {
   "cell_type": "markdown",
   "metadata": {},
   "source": [
    "- #### **Net radiation**\n",
    "The net radiation is given in time series of ($W/m^{2}$) values. The conversion from ($W/m^{2}$) to ($MJ\\cdot m^{2}$) is automatically done by the component.\n",
    "- #### **Average wind speed**\n",
    "The average wind speed is given in time series of (m/s) values.\n",
    "- #### **Relative humidity**\n",
    "The relative humidity is given in time series or raster maps of (% ) values.\n",
    "- #### **Air temperature**\n",
    "The air temperature is given in time series of (°C) values. The conversion in K is directly done by the component.\n",
    "- #### **$G_{morn}$**\n",
    "$G_{morn}$ is the coefficient for the soil heat flux during daylight\n",
    "- #### **$G_{night}$**\n",
    "$G_{night}$ is the coefficient for the soil heat flux during nighttime\n",
    "- #### **doHourly**\n",
    "doHourly is a boolean field to set the time step of the simulation (”true” is hourly time step, ”false” is daily).\n",
    "- #### **Start Date**\n",
    "Start Date is a string containing the first day of the simulation.\n",
    "- #### **Crop Coefficient**\n",
    "The crop coefficient is a coefficient tipical of the cultivar $\\rightarrow$ http://www.fao.org/3/X0490E/x0490e0b.htm#crop%20coefficients TABLE 12\n",
    "- #### **Water wilting point**\n",
    "Is defined as the minimal amount of water in the soil that the plant requires not to wilt. \n",
    "- #### **Water field capacity**\n",
    "Field Capacity is the amount of soil moisture in the soil after excess water has drained away and the rate of downward movement has decreased. \n",
    "- #### **Roots depth**\n",
    "Rooting depth in [m] $\\rightarrow$ http://www.fao.org/3/X0490E/x0490e0e.htm#total%20available%20water%20(taw) TABLE 22\n",
    "- #### **Depletion fraction**\n",
    "Is the average fraction of available water that can be depleted from the root zone before moisture stress occurs.\n"
   ]
  },
  {
   "cell_type": "markdown",
   "metadata": {},
   "source": [
    "### **Detailed Outputs description**\n",
    "The output file will have exactly the same heading of the input file. \n",
    "- #### **Time series of the latent heat (W/m$^{2}$)**\n",
    "The simulated output evapotranspiration is given as a time series at a given point. Its units are ($mm \\cdot h^{−1}$) or ($mm \\cdot day^{−1}$) depending on the temporal resolution chosen by the end-user.\n",
    "- #### **Time series of the evapotranspiration (mm)**\n",
    "The simulated output evapotranspiration is given as a time series at a given point. Its units are ($mm \\cdot h^{−1}$) or ($mm \\cdot day^{−1}$) depending on the temporal resolution chosen by the end-user."
   ]
  },
  {
   "cell_type": "code",
   "execution_count": 1,
   "metadata": {},
   "outputs": [],
   "source": [
    "import pandas as pd\n",
    "import numpy as np\n",
    "import matplotlib.pyplot as plt\n",
    "from IPython.display import Image\n",
    "import os"
   ]
  },
  {
   "cell_type": "code",
   "execution_count": 2,
   "metadata": {},
   "outputs": [],
   "source": [
    "###########################\n",
    "### SET THE FOLDER PATH ###\n",
    "###########################\n",
    "projFolder = '/home/drugo/Sim/OMS_Project_ET/'\n",
    "os.chdir(projFolder)"
   ]
  },
  {
   "cell_type": "code",
   "execution_count": null,
   "metadata": {},
   "outputs": [],
   "source": [
    "# %load simulation/Evapotranspiration_FAO.sim\n",
    "import static oms3.SimBuilder.instance as OMS3\n",
    "def home = oms_prj\n",
    "\n",
    "def startDate = \"2006-07-01 00:00\"\n",
    "def endDate = \"2006-07-31 23:30\"\n",
    "def timestep = 30\n",
    "OMS3.sim {\n",
    "     resource \"$oms_prj/lib\"\n",
    "     model(while:\"readerAirTemperature.doProcess\")\t{\n",
    "        components\t{\n",
    "            \"readerAirTemperature\"              \t\t\t    \"org.jgrasstools.gears.io.timedependent.OmsTimeSeriesIteratorReader\"\n",
    "\t\t\t\"readerWindVelocity\"             \t\t\t        \"org.jgrasstools.gears.io.timedependent.OmsTimeSeriesIteratorReader\"\n",
    "\t\t\t\"readerRelativeHumidity\"             \t\t        \"org.jgrasstools.gears.io.timedependent.OmsTimeSeriesIteratorReader\"\n",
    "\t\t\t\"readerNetRadiation\"                                \"org.jgrasstools.gears.io.timedependent.OmsTimeSeriesIteratorReader\"\n",
    "\t\t\t\"readerAtmosphericPressure\"                         \"org.jgrasstools.gears.io.timedependent.OmsTimeSeriesIteratorReader\"\n",
    "\t\t\t\"readerSoilHeatFlux\"                                \"org.jgrasstools.gears.io.timedependent.OmsTimeSeriesIteratorReader\"\t\n",
    "\t\t\t\"readerSoilMosture\"              \t\t\t\t    \"org.jgrasstools.gears.io.timedependent.OmsTimeSeriesIteratorReader\"\t\n",
    "\t\t\t\"penmanMonteithFao\"              \t\t\t\t    \"etpPointCase.OmsPenmanMonteithFAO\"\n",
    "\t\t\t\"writerLatentHeatFAO\"                \t\t\t    \"org.jgrasstools.gears.io.timedependent.OmsTimeSeriesIteratorWriter\"\t\t\t\t\t\t\n",
    "\t\t\t\"writerEvapotranspirationFAO\"                       \"org.jgrasstools.gears.io.timedependent.OmsTimeSeriesIteratorWriter\"\t\t\t\t\t\t\n",
    "\t\t\t}\n",
    "\t\t\tparameter{\t\t\n",
    "\n",
    "\t\t\t\t//\tVEGETATION\t&\tSOIL\tCOEFFICIENTS\n",
    "\t\t\t\t\"penmanMonteithFao.cropCoefficient\"\t\t\t\t1.0\n",
    "\t\t\t\t\"penmanMonteithFao.waterWiltingPoint\"\t\t\t0.15\n",
    "\t\t\t\t\"penmanMonteithFao.waterFieldCapacity\"\t\t\t0.27\n",
    "\t\t\t\t\"penmanMonteithFao.rootsDepth\"\t\t\t\t\t0.75\n",
    "\t\t\t\t\"penmanMonteithFao.depletionFraction\"\t\t\t0.55\n",
    "\t\t\t\t\t\t\t\t\n",
    "\t\t\t\t//\tPARAMETERS\n",
    "\t\t\t\t\"penmanMonteithFao.tStartDate\"\t\t\t\t\t\"${startDate}\"\n",
    "\t\t\t\t\"penmanMonteithFao.temporalStep\"\t\t\t\t\"${timestep}\"\n",
    "\t\t\t\t\"penmanMonteithFao.defaultAtmosphericPressure\"\t101.3\n",
    "\t\t\t\t\"penmanMonteithFao.doHourly\"\t\t\t\t\ttrue\n",
    "\t\t\t\t\t\t\t\t\n",
    "\t\t\t\t//\tREADERS\t\t\t\t\n",
    "\t\t\t\t\"readerAirTemperature.file\"         \t\t\t\"${home}/data/Temp.csv\"\n",
    "\t\t\t\t\"readerAirTemperature.idfield\"          \t\t\"val\"\t\t\n",
    "\t\t\t\t\"readerAirTemperature.tStart\"           \t\t\"${startDate}\"\n",
    "\t\t\t\t\"readerAirTemperature.tEnd\"         \t\t\t\"${endDate}\"\n",
    "\t\t\t\t\"readerAirTemperature.tTimestep\"            \t\"${timestep}\"\n",
    "\t\t\t\t\"readerAirTemperature.fileNovalue\"          \t\"-9999.0\"\n",
    "\t\t\t\t\t\t\t\t\n",
    "\t\t\t\t\"readerWindVelocity.file\"                       \"${home}/data/Wind.csv\"\t\n",
    "\t\t\t\t\"readerWindVelocity.idfield\"                    \"val\"\t\t\n",
    "\t\t\t\t\"readerWindVelocity.tStart\"                     \"${startDate}\"\n",
    "\t\t\t\t\"readerWindVelocity.tEnd\"                       \"${endDate}\"\n",
    "\t\t\t\t\"readerWindVelocity.tTimestep\"                  \"${timestep}\"\n",
    "\t\t\t\t\"readerWindVelocity.fileNovalue\"                \"-9999.0\"\n",
    "\t\t\t\t\t\t\t\t\n",
    "\t\t\t\t\"readerRelativeHumidity.file\"                   \"${home}/data/RH.csv\"\n",
    "\t\t\t\t\"readerRelativeHumidity.idfield\"                \"val\"\t\t\n",
    "\t\t\t\t\"readerRelativeHumidity.tStart\"                 \"${startDate}\"\n",
    "\t\t\t\t\"readerRelativeHumidity.tEnd\"                   \"${endDate}\"\n",
    "\t\t\t\t\"readerRelativeHumidity.tTimestep\"              \"${timestep}\"\n",
    "\t\t\t\t\"readerRelativeHumidity.fileNovalue\"            \"-9999.0\"\n",
    "\t\t\t\t\t\t\t\t\n",
    "\t\t\t\t\"readerNetRadiation.file\"                       \"${home}/data/Net.csv\"\n",
    "\t\t\t\t\"readerNetRadiation.idfield\"                    \"val\"\n",
    "\t\t\t\t\"readerNetRadiation.tStart\"                     \"${startDate}\"\n",
    "\t\t\t\t\"readerNetRadiation.tEnd\"                       \"${endDate}\"\n",
    "\t\t\t\t\"readerNetRadiation.tTimestep\"                  \"${timestep}\"\n",
    "\t\t\t\t\"readerNetRadiation.fileNovalue\"                \"-9999.0\"\n",
    "\t\t\t\t\t\t\n",
    "\t\t\t\t\"readerAtmosphericPressure.file\"                \"${home}/data/Pres.csv\"\n",
    "\t\t\t\t\"readerAtmosphericPressure.idfield\"             \"val\"\t\t\n",
    "\t\t\t\t\"readerAtmosphericPressure.tStart\"              \"${startDate}\"\n",
    "\t\t\t\t\"readerAtmosphericPressure.tEnd\"                \"${endDate}\"\n",
    "\t\t\t\t\"readerAtmosphericPressure.tTimestep\"           \"${timestep}\"\n",
    "\t\t\t\t\"readerAtmosphericPressure.fileNovalue\"         \"-9999.0\"\n",
    "\t\t\t\t\t\t\t\t\n",
    "\t\t\t\t\"readerSoilHeatFlux.file\"                       \"${home}/data/GHF.csv\"\t\n",
    "                \"readerSoilHeatFlux.idfield\"                    \"val\"\t\t\n",
    "                \"readerSoilHeatFlux.tStart\"                     \"${startDate}\"\n",
    "                \"readerSoilHeatFlux.tEnd\"                       \"${endDate}\"\n",
    "                \"readerSoilHeatFlux.tTimestep\"                  \"${timestep}\"\n",
    "                \"readerSoilHeatFlux.fileNovalue\"                \"-9999.0\"\t\t\t\n",
    "\t\t\n",
    "\t\t\t\t\"readerSoilMosture.file\"                        \"${home}/data/SWC.csv\"\t\n",
    "                \"readerSoilMosture.idfield\"                     \"val\"\t\t\n",
    "                \"readerSoilMosture.tStart\"                      \"${startDate}\"\n",
    "                \"readerSoilMosture.tEnd\"                        \"${endDate}\"\n",
    "                \"readerSoilMosture.tTimestep\"                   \"${timestep}\"\n",
    "                \"readerSoilMosture.fileNovalue\"                 \"-9999.0\"\t\t\t\t\t\t\t\t\t\t\t\t\t\t\t\t\t\t\t\t\n",
    "\t\t\n",
    "                //\tWRITERS\n",
    "                \"writerEvapotranspirationFAO.file\"\t\t\t\t\"${home}/output/Evapotranspiration_FAO/evapotranspiration_FAO.csv\"\t\n",
    "\t\t\t\t\"writerEvapotranspirationFAO.tStart\"\t\t\t\"${startDate}\"\n",
    "\t\t\t\t\"writerEvapotranspirationFAO.tTimestep\"\t        \"${timestep}\"\n",
    "\t\t\t\t\t\t              \n",
    "\t\t\t\t\"writerLatentHeatFAO.file\"\t\t\t\t\t\t\"${home}/output/Evapotranspiration_FAO/latentHeat_FAO.csv\"\t\n",
    "\t\t\t\t\"writerLatentHeatFAO.tStart\"\t\t\t\t\t\"${startDate}\"\n",
    "\t\t\t\t\"writerLatentHeatFAO.tTimestep\"\t\t\t\t\t\"${timestep}\"\n",
    "            }\n",
    "            connect\t{\n",
    "                \"readerAirTemperature.outData\"\t\t\t\t\t\"penmanMonteithFao.inAirTemperature\"\n",
    "\t\t\t\t\"readerWindVelocity.outData\"\t\t\t\t\t\"penmanMonteithFao.inWindVelocity\"\n",
    "\t\t\t\t\"readerRelativeHumidity.outData\"\t\t\t\t\"penmanMonteithFao.inRelativeHumidity\"\n",
    "\t\t\t\t\"readerNetRadiation.outData\"\t\t\t\t\t\"penmanMonteithFao.inNetRadiation\"\n",
    "\t\t\t\t\"readerAtmosphericPressure.outData\"\t\t\t\t\"penmanMonteithFao.inAtmosphericPressure\"\n",
    "\t\t\t\t\"readerSoilHeatFlux.outData\"\t\t\t\t\t\"penmanMonteithFao.inSoilFlux\"\n",
    "\t\t\t\t\"readerSoilMosture.outData\"\t\t\t\t\t\t\"penmanMonteithFao.inSoilMosture\"\t\t\t\t\t\t\t\t\t\n",
    "\t\t\t\t\"penmanMonteithFao.outEvapotranspirationFao\"\t\"writerEvapotranspirationFAO.inData\"\n",
    "\t\t\t\t\"penmanMonteithFao.outLatentHeatFao\"\t\t\t\"writerLatentHeatFAO.inData\"\n",
    "\t\t\t\t}\n",
    "\t\t\t}\n",
    "\t\t}\n"
   ]
  },
  {
   "cell_type": "code",
   "execution_count": 5,
   "metadata": {},
   "outputs": [],
   "source": [
    "# !docker run --rm -it -v $(pwd):/work omslab/oms simulation/Evapotranspiration_FAO.sim"
   ]
  },
  {
   "cell_type": "code",
   "execution_count": 6,
   "metadata": {
    "scrolled": true
   },
   "outputs": [
    {
     "name": "stdout",
     "output_type": "stream",
     "text": [
      "['evapotranspiration_FAO.csv', 'ET_FAO.csv', 'latentHeat_FAO.csv']\n"
     ]
    }
   ],
   "source": [
    "print(os.listdir('output/Evapotranspiration_FAO/'))"
   ]
  },
  {
   "cell_type": "code",
   "execution_count": 25,
   "metadata": {},
   "outputs": [
    {
     "data": {
      "text/html": [
       "<div>\n",
       "<style scoped>\n",
       "    .dataframe tbody tr th:only-of-type {\n",
       "        vertical-align: middle;\n",
       "    }\n",
       "\n",
       "    .dataframe tbody tr th {\n",
       "        vertical-align: top;\n",
       "    }\n",
       "\n",
       "    .dataframe thead th {\n",
       "        text-align: right;\n",
       "    }\n",
       "</style>\n",
       "<table border=\"1\" class=\"dataframe\">\n",
       "  <thead>\n",
       "    <tr style=\"text-align: right;\">\n",
       "      <th></th>\n",
       "      <th>yyyy-MM-dd HH:mm</th>\n",
       "      <th>Unnamed: 2</th>\n",
       "    </tr>\n",
       "  </thead>\n",
       "  <tbody>\n",
       "    <tr>\n",
       "      <th>0</th>\n",
       "      <td>2006-07-01 00:00:00</td>\n",
       "      <td>0.0</td>\n",
       "    </tr>\n",
       "    <tr>\n",
       "      <th>1</th>\n",
       "      <td>2006-07-01 00:30:00</td>\n",
       "      <td>0.0</td>\n",
       "    </tr>\n",
       "    <tr>\n",
       "      <th>2</th>\n",
       "      <td>2006-07-01 01:00:00</td>\n",
       "      <td>0.0</td>\n",
       "    </tr>\n",
       "  </tbody>\n",
       "</table>\n",
       "</div>"
      ],
      "text/plain": [
       "     yyyy-MM-dd HH:mm  Unnamed: 2\n",
       "0 2006-07-01 00:00:00         0.0\n",
       "1 2006-07-01 00:30:00         0.0\n",
       "2 2006-07-01 01:00:00         0.0"
      ]
     },
     "execution_count": 25,
     "metadata": {},
     "output_type": "execute_result"
    }
   ],
   "source": [
    "df = pd.read_csv('output/Evapotranspiration_FAO/evapotranspiration_FAO.csv',\n",
    "                 skiprows=6, sep=',', parse_dates=[0], \n",
    "                 na_values=-9999,usecols=[1,2])\n",
    "df.head(3)"
   ]
  },
  {
   "cell_type": "code",
   "execution_count": 26,
   "metadata": {},
   "outputs": [
    {
     "data": {
      "text/html": [
       "<div>\n",
       "<style scoped>\n",
       "    .dataframe tbody tr th:only-of-type {\n",
       "        vertical-align: middle;\n",
       "    }\n",
       "\n",
       "    .dataframe tbody tr th {\n",
       "        vertical-align: top;\n",
       "    }\n",
       "\n",
       "    .dataframe thead th {\n",
       "        text-align: right;\n",
       "    }\n",
       "</style>\n",
       "<table border=\"1\" class=\"dataframe\">\n",
       "  <thead>\n",
       "    <tr style=\"text-align: right;\">\n",
       "      <th></th>\n",
       "      <th>El fao</th>\n",
       "    </tr>\n",
       "    <tr>\n",
       "      <th>Datetime</th>\n",
       "      <th></th>\n",
       "    </tr>\n",
       "  </thead>\n",
       "  <tbody>\n",
       "    <tr>\n",
       "      <th>2006-07-01 00:00:00</th>\n",
       "      <td>0.0</td>\n",
       "    </tr>\n",
       "    <tr>\n",
       "      <th>2006-07-01 00:30:00</th>\n",
       "      <td>0.0</td>\n",
       "    </tr>\n",
       "    <tr>\n",
       "      <th>2006-07-01 01:00:00</th>\n",
       "      <td>0.0</td>\n",
       "    </tr>\n",
       "  </tbody>\n",
       "</table>\n",
       "</div>"
      ],
      "text/plain": [
       "                     El fao\n",
       "Datetime                   \n",
       "2006-07-01 00:00:00     0.0\n",
       "2006-07-01 00:30:00     0.0\n",
       "2006-07-01 01:00:00     0.0"
      ]
     },
     "execution_count": 26,
     "metadata": {},
     "output_type": "execute_result"
    }
   ],
   "source": [
    "df.columns = ['Datetime','El fao']\n",
    "df.index = df['Datetime']\n",
    "df = df.iloc[:,1:]\n",
    "df.head(3)"
   ]
  },
  {
   "cell_type": "code",
   "execution_count": 27,
   "metadata": {},
   "outputs": [
    {
     "data": {
      "text/html": [
       "<div>\n",
       "<style scoped>\n",
       "    .dataframe tbody tr th:only-of-type {\n",
       "        vertical-align: middle;\n",
       "    }\n",
       "\n",
       "    .dataframe tbody tr th {\n",
       "        vertical-align: top;\n",
       "    }\n",
       "\n",
       "    .dataframe thead th {\n",
       "        text-align: right;\n",
       "    }\n",
       "</style>\n",
       "<table border=\"1\" class=\"dataframe\">\n",
       "  <thead>\n",
       "    <tr style=\"text-align: right;\">\n",
       "      <th></th>\n",
       "      <th>El fao</th>\n",
       "    </tr>\n",
       "  </thead>\n",
       "  <tbody>\n",
       "    <tr>\n",
       "      <th>count</th>\n",
       "      <td>1488.000000</td>\n",
       "    </tr>\n",
       "    <tr>\n",
       "      <th>mean</th>\n",
       "      <td>0.081820</td>\n",
       "    </tr>\n",
       "    <tr>\n",
       "      <th>std</th>\n",
       "      <td>0.105382</td>\n",
       "    </tr>\n",
       "    <tr>\n",
       "      <th>min</th>\n",
       "      <td>0.000000</td>\n",
       "    </tr>\n",
       "    <tr>\n",
       "      <th>25%</th>\n",
       "      <td>0.000000</td>\n",
       "    </tr>\n",
       "    <tr>\n",
       "      <th>50%</th>\n",
       "      <td>0.011091</td>\n",
       "    </tr>\n",
       "    <tr>\n",
       "      <th>75%</th>\n",
       "      <td>0.163013</td>\n",
       "    </tr>\n",
       "    <tr>\n",
       "      <th>max</th>\n",
       "      <td>0.362380</td>\n",
       "    </tr>\n",
       "  </tbody>\n",
       "</table>\n",
       "</div>"
      ],
      "text/plain": [
       "            El fao\n",
       "count  1488.000000\n",
       "mean      0.081820\n",
       "std       0.105382\n",
       "min       0.000000\n",
       "25%       0.000000\n",
       "50%       0.011091\n",
       "75%       0.163013\n",
       "max       0.362380"
      ]
     },
     "execution_count": 27,
     "metadata": {},
     "output_type": "execute_result"
    }
   ],
   "source": [
    "df.describe()"
   ]
  },
  {
   "cell_type": "code",
   "execution_count": 28,
   "metadata": {},
   "outputs": [
    {
     "data": {
      "text/html": [
       "<div>\n",
       "<style scoped>\n",
       "    .dataframe tbody tr th:only-of-type {\n",
       "        vertical-align: middle;\n",
       "    }\n",
       "\n",
       "    .dataframe tbody tr th {\n",
       "        vertical-align: top;\n",
       "    }\n",
       "\n",
       "    .dataframe thead th {\n",
       "        text-align: right;\n",
       "    }\n",
       "</style>\n",
       "<table border=\"1\" class=\"dataframe\">\n",
       "  <thead>\n",
       "    <tr style=\"text-align: right;\">\n",
       "      <th></th>\n",
       "      <th>El fao</th>\n",
       "    </tr>\n",
       "    <tr>\n",
       "      <th>Datetime</th>\n",
       "      <th></th>\n",
       "    </tr>\n",
       "  </thead>\n",
       "  <tbody>\n",
       "    <tr>\n",
       "      <th>2006-07-01 20:30:00</th>\n",
       "      <td>0.0</td>\n",
       "    </tr>\n",
       "    <tr>\n",
       "      <th>2006-07-01 21:00:00</th>\n",
       "      <td>0.0</td>\n",
       "    </tr>\n",
       "    <tr>\n",
       "      <th>2006-07-01 21:30:00</th>\n",
       "      <td>0.0</td>\n",
       "    </tr>\n",
       "    <tr>\n",
       "      <th>2006-07-01 22:00:00</th>\n",
       "      <td>0.0</td>\n",
       "    </tr>\n",
       "    <tr>\n",
       "      <th>2006-07-01 22:30:00</th>\n",
       "      <td>0.0</td>\n",
       "    </tr>\n",
       "  </tbody>\n",
       "</table>\n",
       "</div>"
      ],
      "text/plain": [
       "                     El fao\n",
       "Datetime                   \n",
       "2006-07-01 20:30:00     0.0\n",
       "2006-07-01 21:00:00     0.0\n",
       "2006-07-01 21:30:00     0.0\n",
       "2006-07-01 22:00:00     0.0\n",
       "2006-07-01 22:30:00     0.0"
      ]
     },
     "execution_count": 28,
     "metadata": {},
     "output_type": "execute_result"
    }
   ],
   "source": [
    "mask = (df.index > '2006-07-01 00:00:00') & (df.index < '2006-07-01 23:00:00')\n",
    "dfDay = df.iloc[mask]\n",
    "dfDay.tail()"
   ]
  },
  {
   "cell_type": "code",
   "execution_count": 29,
   "metadata": {
    "scrolled": true
   },
   "outputs": [
    {
     "data": {
      "text/plain": [
       "<matplotlib.axes._subplots.AxesSubplot at 0x7f02153f40f0>"
      ]
     },
     "execution_count": 29,
     "metadata": {},
     "output_type": "execute_result"
    },
    {
     "data": {
      "image/png": "[encoded data removed]",
      "text/plain": [
       "<Figure size 432x288 with 1 Axes>"
      ]
     },
     "metadata": {},
     "output_type": "display_data"
    }
   ],
   "source": [
    "dfDay.plot()"
   ]
  }
 ],
 "metadata": {
  "kernelspec": {
   "display_name": "Python 3",
   "language": "python",
   "name": "python3"
  },
  "language_info": {
   "codemirror_mode": {
    "name": "ipython",
    "version": 3
   },
   "file_extension": ".py",
   "mimetype": "text/x-python",
   "name": "python",
   "nbconvert_exporter": "python",
   "pygments_lexer": "ipython3",
   "version": "3.6.8"
  }
 },
 "nbformat": 4,
 "nbformat_minor": 2
}
