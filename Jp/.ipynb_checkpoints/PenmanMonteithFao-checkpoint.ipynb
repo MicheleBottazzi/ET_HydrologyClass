{
 "cells": [
  {
   "cell_type": "markdown",
   "metadata": {},
   "source": [
    "Complete documentation: https://osf.io/4rd8g/\n",
    "## **Penman-Monteith FAO**\n",
    "\n",
    "### **Component Description**\n",
    "The GEOframe-NewAge ET component offers two different formulations for the evapotraspiration modeling: the FAO Penman-Monteith model and the PriestleyTaylor model\n",
    "\\begin{equation}\n",
    "ET_{0}^{FAO} =  K_{s} \\cdot K_{c} \\cdot \\dfrac{0.408\\cdot \\Delta\\cdot (R_{n} - G)+\\gamma\\cdot u_{2}\\cdot(e_{s}-e)\\cdot\\frac{C_{p}}{T+273}}{\\Delta+\\gamma\\cdot(1+C_{d}\\cdot u_{2})}\n",
    "\\end{equation}\n",
    "\n",
    "\\begin{equation}\n",
    "ET_{0}^{PT} = \\alpha\\dfrac{\\Delta\\cdot (R_{n} - G)}{\\Delta+\\gamma}\n",
    "\\end{equation}\n",
    "With:\n",
    "\\begin{equation}\n",
    " G =  \\begin{cases}\n",
    "   G_{morn}\\cdot R_{n} \\quad daylight\\\\G_{night}\\cdot R_{n} \\quad nighttime\n",
    "   \\end{cases} \n",
    "\\end{equation}\n",
    "where:\n",
    "- $ET_{0}$ or $ET$ are expressed in [$mm \\cdot day^{−1}$] or [$mm\\cdot hour^{−1}$]; \n",
    "- $K_{s}$ is the water stress coefficient [-];\n",
    "- $K_{c}$ is the crop coefficient [-];\n",
    "- $R_{n}$ is the net radiation expressed in [$MJ \\cdot m^{2} \\cdot day^{−1}$] or [$MJ \\cdot m^{2}\\cdot h^{−1}$]; \n",
    "- $G$ is the soil heat flux at the soil surface in [$MJ \\cdot m^{2} \\cdot day^{−1}$] or [$MJ \\cdot m^{2}\\cdot h^{−1}$]; \n",
    "- $T$ is the mean daily or hourly air temperature expressed in (°C) ; \n",
    "- $u_{2}$ is the wind speed in ($m\\cdot s^{−1}$); \n",
    "- $e_{s}$ is the mean saturation vapor-pressure expressed in ($kP_{a}$); \n",
    "- $e$ is the mean actual vapor-pressure; \n",
    "- $\\Delta$ is the slope of the saturation vapor-pressure curve expressed in ($kP_{a}\\dot °C^{−1}$); \n",
    "- $\\gamma$ is the psychometric constant expressed in ($kP_{a} \\cdot$ °$C^{−1}$); \n",
    "- $C_{d}$ is a coefficient equal to 0.34 and $C_{p}$ is a coefficient equal to 900 in the case of a daily time step and equal to 37 in the case of a hourly time step.\n"
   ]
  },
  {
   "cell_type": "markdown",
   "metadata": {},
   "source": [
    "### **Detailed Inputs description**\n",
    "General description\n",
    "The input file is a .csv file containing a header and one or more time series of input data,\n",
    "depending on the number of stations involved. Each column of the file is associated to a\n",
    "different station.\n",
    "The file must have the following header:\n",
    "- The first 3 rows with general information such as the date of the creation of the file and the author;\n",
    "- The fourth and fifth rows contain the IDs of the stations (e.g. station number 8:value 8, ID, ,8);\n",
    "- The sixth row contains the information about the type of the input data (in thiscase, one column with the date and one column with double values);\n",
    "- The seventh row specifies the date format (YYYY-MM-dd HH:mm).\n"
   ]
  },
  {
   "cell_type": "markdown",
   "metadata": {},
   "source": [
    "- #### **Net radiation**\n",
    "The net radiation is given in time series of ($W/m^{2}$) values. The conversion from ($W/m^{2}$) to ($MJ\\cdot m^{2}$) is automatically done by the component.\n",
    "- #### **Average wind speed**\n",
    "The average wind speed is given in time series of (m/s) values.\n",
    "- #### **Relative humidity**\n",
    "The relative humidity is given in time series or raster maps of (% ) values.\n",
    "- #### **Air temperature**\n",
    "The air temperature is given in time series of (°C) values. The conversion in K is directly done by the component.\n",
    "- #### **$G_{morn}$**\n",
    "$G_{morn}$ is the coefficient for the soil heat flux during daylight\n",
    "- #### **$G_{night}$**\n",
    "$G_{night}$ is the coefficient for the soil heat flux during nighttime\n",
    "- #### **doHourly**\n",
    "doHourly is a boolean field to set the time step of the simulation (”true” is hourly time step, ”false” is daily).\n",
    "- #### **Start Date**\n",
    "Start Date is a string containing the first day of the simulation.\n",
    "- #### **Crop Coefficient**\n",
    "The crop coefficient is a coefficient tipical of the cultivar $\\rightarrow$ http://www.fao.org/3/X0490E/x0490e0b.htm#crop%20coefficients TABLE 12\n",
    "- #### **Water wilting point**\n",
    "Is defined as the minimal amount of water in the soil that the plant requires not to wilt. \n",
    "- #### **Water field capacity**\n",
    "Field Capacity is the amount of soil moisture in the soil after excess water has drained away and the rate of downward movement has decreased. \n",
    "- #### **Roots depth**\n",
    "Rooting depth in [m] $\\rightarrow$ http://www.fao.org/3/X0490E/x0490e0e.htm#total%20available%20water%20(taw) TABLE 22\n",
    "- #### **Depletion fraction**\n",
    "Is the average fraction of available water that can be depleted from the root zone before moisture stress occurs.\n"
   ]
  },
  {
   "cell_type": "markdown",
   "metadata": {},
   "source": [
    "### **Detailed Outputs description**\n",
    "The output file will have exactly the same heading of the input file. \n",
    "- #### **Time series of the latent heat (W/m$^{2}$)**\n",
    "The simulated output evapotranspiration is given as a time series at a given point. Its units are ($mm \\cdot h^{−1}$) or ($mm \\cdot day^{−1}$) depending on the temporal resolution chosen by the end-user.\n",
    "- #### **Time series of the evapotranspiration (mm)**\n",
    "The simulated output evapotranspiration is given as a time series at a given point. Its units are ($mm \\cdot h^{−1}$) or ($mm \\cdot day^{−1}$) depending on the temporal resolution chosen by the end-user."
   ]
  },
  {
   "cell_type": "code",
   "execution_count": 2,
   "metadata": {},
   "outputs": [],
   "source": [
    "import pandas as pd\n",
    "import numpy as np\n",
    "import matplotlib.pyplot as plt\n",
    "from IPython.display import Image\n",
    "import os"
   ]
  },
  {
   "cell_type": "code",
   "execution_count": 3,
   "metadata": {},
   "outputs": [],
   "source": [
    "###########################\n",
    "### SET THE FOLDER PATH ###\n",
    "###########################\n",
    "projFolder = '/home/drugo/Sim/OMS_Project_ET/'\n",
    "os.chdir(projFolder)"
   ]
  },
  {
   "cell_type": "code",
   "execution_count": null,
   "metadata": {},
   "outputs": [],
   "source": [
    "# %load simulation/Evapotranspiration_PriestleyTaylor.sim\n",
    "import static oms3.SimBuilder.instance as OMS3\n",
    "def home = oms_prj\n",
    "\n",
    "def startDate = \"2015-07-21 00:00\"\n",
    "def endDate = \"2015-07-21 23:00\"\n",
    "def timestep = 60\n",
    "OMS3.sim {\n",
    "\tresource \"$oms_prj/lib\"    \n",
    "\tmodel(while:\"readerAirTemperature.doProcess\") {\n",
    "\t\tcomponents {\n",
    "\t\t\t\"readerAirTemperature\"\t\t\t\"org.jgrasstools.gears.io.timedependent.OmsTimeSeriesIteratorReader\"\n",
    "\t\t\t\"readerNetRadiation\"            \"org.jgrasstools.gears.io.timedependent.OmsTimeSeriesIteratorReader\"\n",
    "\t\t\t\"readerAtmosphericPressure\"     \"org.jgrasstools.gears.io.timedependent.OmsTimeSeriesIteratorReader\"\n",
    "\t\t\t\"readerSoilHeatFlux\"          \t\"org.jgrasstools.gears.io.timedependent.OmsTimeSeriesIteratorReader\"\t\n",
    "\t\t\t\"priestleyTaylor\"               \"etpPointCase.OmsPriestleyTaylor\"     \n",
    "\t\t\t\"writerLatentHeatPT\"\t\t\t\"org.jgrasstools.gears.io.timedependent.OmsTimeSeriesIteratorWriter\"      \n",
    "\t\t\t\"writerEvapotranspirationPT\"\t\"org.jgrasstools.gears.io.timedependent.OmsTimeSeriesIteratorWriter\"      \t\t\t         \n",
    "\t\t\t}  \n",
    "\t\t\tparameter{        \n",
    "\t\t\t\t\n",
    "\t\t\t\t// PARAMETERS\n",
    "\t\t\t\t\"priestleyTaylor.alpha\"\t\t\t\t\t\t1.26\n",
    "\t\t        \"priestleyTaylor.soilFluxParameterDay\"\t\t0.35\n",
    "\t\t        \"priestleyTaylor.soilFluxParameterNight\"\t0.75\n",
    "        \t\t\"priestleyTaylor.doHourly\"\t\t\t\t\ttrue\n",
    "        \t\t\"priestleyTaylor.defaultAtmosphericPressure\"101.3\n",
    "\t\t        \"priestleyTaylor.temporalStep\"\t\t\t\t\"${timestep}\"\n",
    "        \t\t\"priestleyTaylor.tStartDate\"\t\t\t\t\"${startDate}\"\n",
    "        \t\t\n",
    "        \t\t// READERS\n",
    "\t\t\t\t\"readerAirTemperature.file\"\t\t\t\t\t\"${home}/data/Temp.csv\"\n",
    "\t\t\t\t\"readerAirTemperature.idfield\"      \t\t\"val\"  \n",
    "\t\t\t\t\"readerAirTemperature.tStart\"\t\t\t\t\"${startDate}\"\n",
    "\t\t\t\t\"readerAirTemperature.tEnd\"\t\t\t\t\t\"${endDate}\"\n",
    "\t\t\t\t\"readerAirTemperature.tTimestep\"\t\t\t\"${timestep}\"\n",
    "\t\t\t\t\"readerAirTemperature.fileNovalue\"\t\t\t\"-9999\"        \n",
    "\t\t\t\t\n",
    "\t\t\t\t\"readerNetRadiation.file\"          \t\t\t\"${home}/data/Net.csv\"\n",
    "\t\t\t\t\"readerNetRadiation.idfield\"      \t\t\t\"val\"\n",
    "\t\t\t\t\"readerNetRadiation.tStart\"        \t\t\t\"${startDate}\"\n",
    "\t\t\t\t\"readerNetRadiation.tEnd\"\t\t\t\t\t\"${endDate}\"\n",
    "\t\t\t\t\"readerNetRadiation.tTimestep\"\t\t\t\t\"${timestep}\"\n",
    "\t\t\t\t\"readerNetRadiation.fileNovalue\"\t\t\t\"-9999\"\t\n",
    "\t\t\t\n",
    "\t\t\t\t\"readerAtmosphericPressure.file\"    \t\t\"${home}/data/Pres.csv\"\n",
    "\t\t\t\t\"readerAtmosphericPressure.idfield\"     \t\"val\"  \n",
    "\t\t\t\t\"readerAtmosphericPressure.tStart\"      \t\"${startDate}\"\n",
    "\t\t\t\t\"readerAtmosphericPressure.tEnd\"        \t\"${endDate}\"\n",
    "\t\t\t\t\"readerAtmosphericPressure.tTimestep\"   \t\"${timestep}\"\n",
    "\t\t\t\t\"readerAtmosphericPressure.fileNovalue\" \t\"-9999.0\"       \n",
    "\t\t\t\t\n",
    "\t\t\t\t\"readerSoilHeatFlux.file\"         \t\t\t\"${home}/data/GHF.csv\" \n",
    "\t\t\t\t\"readerSoilHeatFlux.idfield\"      \t\t\t\"val\"  \n",
    "\t\t\t\t\"readerSoilHeatFlux.tStart\"       \t\t\t\"${startDate}\"\n",
    "\t\t\t\t\"readerSoilHeatFlux.tEnd\"         \t\t\t\"${endDate}\"\n",
    "\t\t\t\t\"readerSoilHeatFlux.tTimestep\"    \t\t\t\"${timestep}\"\n",
    "\t\t\t\t\"readerSoilHeatFlux.fileNovalue\"  \t\t\t\"-9999.0\"                                                     \n",
    "\t\t\t\n",
    "\t\t\t\t// WRITERS\n",
    "\t\t\t\t\"writerLatentHeatPT.file\"\t\t\t\t\t\"${home}/output/Evapotranspiration_PriestleyTaylor/latentHeat_PT.csv\" \n",
    "\t\t\t\t\"writerLatentHeatPT.tStart\"\t\t\t\t\t\"${startDate}\"\n",
    "\t\t\t\t\"writerLatentHeatPT.tTimestep\"\t\t\t\t\"${timestep}\"\n",
    "\t\t\t\t\n",
    "\t\t\t\t\"writerEvapotranspirationPT.file\"\t\t\t\"${home}/output/Evapotranspiration_PriestleyTaylor/evapotranspiration_PT.csv\" \n",
    "\t\t\t\t\"writerEvapotranspirationPT.tStart\"\t\t\t\"${startDate}\"\n",
    "\t\t\t\t\"writerEvapotranspirationPT.tTimestep\"\t\t\"${timestep}\"\n",
    "\t\t\t\t}\n",
    "\t\t\t\tconnect {                \n",
    "\t\t\t\t\t\"readerAirTemperature.outData\"\t\t\t\"priestleyTaylor.inAirTemperature\"\n",
    "\t\t\t\t\t\"readerNetRadiation.outData\"\t\t\t\"priestleyTaylor.inNetRadiation\"\n",
    "\t\t\t\t\t\"readerAtmosphericPressure.outData\"\t\t\"priestleyTaylor.inAtmosphericPressure\"\t\n",
    "\t\t\t\t\t\"readerSoilHeatFlux.outData\"\t\t\t\"priestleyTaylor.inSoilFlux\"\t\n",
    "\t\t\t\t\t\"priestleyTaylor.outLatentHeatPt\"\t\t\"writerLatentHeatPT.inData\"\n",
    "\t\t\t\t\t\"priestleyTaylor.outEvapotranspirationPt\"\"writerEvapotranspirationPT.inData\"\n",
    "\t\t\t\t\t}\t\t\t\t\t\n",
    "\t\t\t}\n",
    "\t}\n",
    "\n",
    "\n"
   ]
  },
  {
   "cell_type": "code",
   "execution_count": 5,
   "metadata": {},
   "outputs": [],
   "source": [
    "# !docker run --rm -it -v $(pwd):/work omslab/oms simulation/Evaporation\\\\&Transpiration/Evapotranspiration_PriestleyTaylor.sim"
   ]
  },
  {
   "cell_type": "code",
   "execution_count": 8,
   "metadata": {},
   "outputs": [
    {
     "name": "stdout",
     "output_type": "stream",
     "text": [
      "['latentHeat_PT.csv', 'ET_PT.csv']\n"
     ]
    }
   ],
   "source": [
    "print(os.listdir('output/Evapotranspiration_PriestleyTaylor/'))"
   ]
  },
  {
   "cell_type": "code",
   "execution_count": 73,
   "metadata": {},
   "outputs": [
    {
     "data": {
      "text/html": [
       "<div>\n",
       "<style scoped>\n",
       "    .dataframe tbody tr th:only-of-type {\n",
       "        vertical-align: middle;\n",
       "    }\n",
       "\n",
       "    .dataframe tbody tr th {\n",
       "        vertical-align: top;\n",
       "    }\n",
       "\n",
       "    .dataframe thead th {\n",
       "        text-align: right;\n",
       "    }\n",
       "</style>\n",
       "<table border=\"1\" class=\"dataframe\">\n",
       "  <thead>\n",
       "    <tr style=\"text-align: right;\">\n",
       "      <th></th>\n",
       "      <th>yyyy-MM-dd HH:mm</th>\n",
       "      <th>Unnamed: 2</th>\n",
       "    </tr>\n",
       "  </thead>\n",
       "  <tbody>\n",
       "    <tr>\n",
       "      <th>0</th>\n",
       "      <td>2015-07-21 00:00:00</td>\n",
       "      <td>0.0</td>\n",
       "    </tr>\n",
       "    <tr>\n",
       "      <th>1</th>\n",
       "      <td>2015-07-21 01:00:00</td>\n",
       "      <td>0.0</td>\n",
       "    </tr>\n",
       "    <tr>\n",
       "      <th>2</th>\n",
       "      <td>2015-07-21 02:00:00</td>\n",
       "      <td>0.0</td>\n",
       "    </tr>\n",
       "  </tbody>\n",
       "</table>\n",
       "</div>"
      ],
      "text/plain": [
       "     yyyy-MM-dd HH:mm  Unnamed: 2\n",
       "0 2015-07-21 00:00:00         0.0\n",
       "1 2015-07-21 01:00:00         0.0\n",
       "2 2015-07-21 02:00:00         0.0"
      ]
     },
     "execution_count": 73,
     "metadata": {},
     "output_type": "execute_result"
    }
   ],
   "source": [
    "df = pd.read_csv('output/Evapotranspiration_PriestleyTaylor/latentHeat_PT.csv',\n",
    "                 skiprows=6, sep=',', parse_dates=[0], \n",
    "                 na_values=-9999,usecols=[1,2])\n",
    "df.head(3)"
   ]
  },
  {
   "cell_type": "code",
   "execution_count": 74,
   "metadata": {},
   "outputs": [
    {
     "data": {
      "text/html": [
       "<div>\n",
       "<style scoped>\n",
       "    .dataframe tbody tr th:only-of-type {\n",
       "        vertical-align: middle;\n",
       "    }\n",
       "\n",
       "    .dataframe tbody tr th {\n",
       "        vertical-align: top;\n",
       "    }\n",
       "\n",
       "    .dataframe thead th {\n",
       "        text-align: right;\n",
       "    }\n",
       "</style>\n",
       "<table border=\"1\" class=\"dataframe\">\n",
       "  <thead>\n",
       "    <tr style=\"text-align: right;\">\n",
       "      <th></th>\n",
       "      <th>El pt</th>\n",
       "    </tr>\n",
       "    <tr>\n",
       "      <th>Datetime</th>\n",
       "      <th></th>\n",
       "    </tr>\n",
       "  </thead>\n",
       "  <tbody>\n",
       "    <tr>\n",
       "      <th>2015-07-21 00:00:00</th>\n",
       "      <td>0.0</td>\n",
       "    </tr>\n",
       "    <tr>\n",
       "      <th>2015-07-21 01:00:00</th>\n",
       "      <td>0.0</td>\n",
       "    </tr>\n",
       "    <tr>\n",
       "      <th>2015-07-21 02:00:00</th>\n",
       "      <td>0.0</td>\n",
       "    </tr>\n",
       "  </tbody>\n",
       "</table>\n",
       "</div>"
      ],
      "text/plain": [
       "                     El pt\n",
       "Datetime                  \n",
       "2015-07-21 00:00:00    0.0\n",
       "2015-07-21 01:00:00    0.0\n",
       "2015-07-21 02:00:00    0.0"
      ]
     },
     "execution_count": 74,
     "metadata": {},
     "output_type": "execute_result"
    }
   ],
   "source": [
    "df.columns = ['Datetime','El pt']\n",
    "df.index = df['Datetime']\n",
    "df = df.iloc[:,1:]\n",
    "df.head(3)"
   ]
  },
  {
   "cell_type": "code",
   "execution_count": 75,
   "metadata": {},
   "outputs": [
    {
     "data": {
      "text/html": [
       "<div>\n",
       "<style scoped>\n",
       "    .dataframe tbody tr th:only-of-type {\n",
       "        vertical-align: middle;\n",
       "    }\n",
       "\n",
       "    .dataframe tbody tr th {\n",
       "        vertical-align: top;\n",
       "    }\n",
       "\n",
       "    .dataframe thead th {\n",
       "        text-align: right;\n",
       "    }\n",
       "</style>\n",
       "<table border=\"1\" class=\"dataframe\">\n",
       "  <thead>\n",
       "    <tr style=\"text-align: right;\">\n",
       "      <th></th>\n",
       "      <th>El pt</th>\n",
       "    </tr>\n",
       "  </thead>\n",
       "  <tbody>\n",
       "    <tr>\n",
       "      <th>count</th>\n",
       "      <td>24.000000</td>\n",
       "    </tr>\n",
       "    <tr>\n",
       "      <th>mean</th>\n",
       "      <td>187.915993</td>\n",
       "    </tr>\n",
       "    <tr>\n",
       "      <th>std</th>\n",
       "      <td>226.838932</td>\n",
       "    </tr>\n",
       "    <tr>\n",
       "      <th>min</th>\n",
       "      <td>0.000000</td>\n",
       "    </tr>\n",
       "    <tr>\n",
       "      <th>25%</th>\n",
       "      <td>0.000000</td>\n",
       "    </tr>\n",
       "    <tr>\n",
       "      <th>50%</th>\n",
       "      <td>32.607150</td>\n",
       "    </tr>\n",
       "    <tr>\n",
       "      <th>75%</th>\n",
       "      <td>404.655797</td>\n",
       "    </tr>\n",
       "    <tr>\n",
       "      <th>max</th>\n",
       "      <td>579.897419</td>\n",
       "    </tr>\n",
       "  </tbody>\n",
       "</table>\n",
       "</div>"
      ],
      "text/plain": [
       "            El pt\n",
       "count   24.000000\n",
       "mean   187.915993\n",
       "std    226.838932\n",
       "min      0.000000\n",
       "25%      0.000000\n",
       "50%     32.607150\n",
       "75%    404.655797\n",
       "max    579.897419"
      ]
     },
     "execution_count": 75,
     "metadata": {},
     "output_type": "execute_result"
    }
   ],
   "source": [
    "df.describe()"
   ]
  },
  {
   "cell_type": "code",
   "execution_count": 76,
   "metadata": {},
   "outputs": [
    {
     "data": {
      "text/plain": [
       "El pt    float64\n",
       "dtype: object"
      ]
     },
     "execution_count": 76,
     "metadata": {},
     "output_type": "execute_result"
    }
   ],
   "source": [
    "df.dtypes"
   ]
  },
  {
   "cell_type": "code",
   "execution_count": 77,
   "metadata": {},
   "outputs": [
    {
     "data": {
      "text/plain": [
       "<matplotlib.axes._subplots.AxesSubplot at 0x7fb306fe2780>"
      ]
     },
     "execution_count": 77,
     "metadata": {},
     "output_type": "execute_result"
    },
    {
     "data": {
      "image/png": "[encoded data removed]",
      "text/plain": [
       "<Figure size 432x288 with 1 Axes>"
      ]
     },
     "metadata": {},
     "output_type": "display_data"
    }
   ],
   "source": [
    "df.plot()"
   ]
  },
  {
   "cell_type": "code",
   "execution_count": 81,
   "metadata": {},
   "outputs": [],
   "source": [
    "df1 = pd.read_csv('output/Evapotranspiration_FAO/latentHeat_FAO.csv',\n",
    "                 skiprows=6, sep=',', parse_dates=[0], \n",
    "                 na_values=-9999,usecols=[1,2])\n",
    "df1.columns = ['Datetime','El fao']\n",
    "df1.index = df1['Datetime']\n",
    "df1 = df1.iloc[:,1:]"
   ]
  },
  {
   "cell_type": "code",
   "execution_count": 89,
   "metadata": {},
   "outputs": [],
   "source": [
    "df2 = pd.read_csv('output/TranspirationResistance/LatentHeat_SunStress.csv',\n",
    "                 skiprows=6, sep=',', parse_dates=[0], \n",
    "                 na_values=-9999,usecols=[1,2])\n",
    "df2.columns = ['Datetime','El gf sun']\n",
    "df2.index = df2['Datetime']\n",
    "df2 = df2.iloc[:,1:]"
   ]
  },
  {
   "cell_type": "code",
   "execution_count": 90,
   "metadata": {},
   "outputs": [],
   "source": [
    "df3 = pd.read_csv('output/TranspirationResistance/LatentHeat_ShadeStress.csv',\n",
    "                 skiprows=6, sep=',', parse_dates=[0], \n",
    "                 na_values=-9999,usecols=[1,2])\n",
    "df3.columns = ['Datetime','El gf shade']\n",
    "df3.index = df3['Datetime']\n",
    "df3 = df3.iloc[:,1:]\n"
   ]
  },
  {
   "cell_type": "code",
   "execution_count": 91,
   "metadata": {},
   "outputs": [
    {
     "data": {
      "text/plain": [
       "<matplotlib.axes._subplots.AxesSubplot at 0x7fb306a61588>"
      ]
     },
     "execution_count": 91,
     "metadata": {},
     "output_type": "execute_result"
    },
    {
     "data": {
      "image/png": "[encoded data removed]",
      "text/plain": [
       "<Figure size 432x288 with 1 Axes>"
      ]
     },
     "metadata": {},
     "output_type": "display_data"
    },
    {
     "data": {
      "image/png": "[encoded data removed]",
      "text/plain": [
       "<Figure size 432x288 with 1 Axes>"
      ]
     },
     "metadata": {},
     "output_type": "display_data"
    },
    {
     "data": {
      "image/png": "[encoded data removed]",
      "text/plain": [
       "<Figure size 432x288 with 1 Axes>"
      ]
     },
     "metadata": {},
     "output_type": "display_data"
    },
    {
     "data": {
      "image/png": "[encoded data removed]",
      "text/plain": [
       "<Figure size 432x288 with 1 Axes>"
      ]
     },
     "metadata": {},
     "output_type": "display_data"
    }
   ],
   "source": [
    "df.plot()\n",
    "df1.plot()\n",
    "df2.plot()\n",
    "df3.plot()"
   ]
  },
  {
   "cell_type": "code",
   "execution_count": null,
   "metadata": {},
   "outputs": [],
   "source": []
  }
 ],
 "metadata": {
  "kernelspec": {
   "display_name": "Python 3",
   "language": "python",
   "name": "python3"
  },
  "language_info": {
   "codemirror_mode": {
    "name": "ipython",
    "version": 3
   },
   "file_extension": ".py",
   "mimetype": "text/x-python",
   "name": "python",
   "nbconvert_exporter": "python",
   "pygments_lexer": "ipython3",
   "version": "3.6.8"
  }
 },
 "nbformat": 4,
 "nbformat_minor": 2
}
